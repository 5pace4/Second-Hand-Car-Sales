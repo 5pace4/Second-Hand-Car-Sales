{
 "cells": [
  {
   "cell_type": "markdown",
   "id": "357a4a52",
   "metadata": {},
   "source": [
    "# Problem Description\n",
    "In this exercise you will analyse a mock dataset of second hand car sales in the UK. You can \n",
    "download this dataset as a csv file from Canvas at the following link: \n",
    "https://canvas.hull.ac.uk/files/5020067/download?download_frd=1\n",
    "You will see that the dataset contains 50,000 rows, with each row corresponding to the sale \n",
    "of a second hand car. For each car sold, the dataset contains the following information: \n",
    "- Manufacturer – the name of the manufacturer that produced the car. \n",
    "- Model – the name of the model of the car. \n",
    "- Engine size – the size of the engine, in litres. \n",
    "- Fuel type – the type of fuel that the engine uses. \n",
    "- Year of manufacture – the year in which the car was made. \n",
    "- Mileage – the total number of miles that the car has been driven. \n",
    "- Price – the price that the car was sold for, in Pound Sterling (GBP). \n",
    "\n",
    "NOTE: whilst the names of the car manufacturers and models in this dataset may be familiar \n",
    "to you, be aware that this is a mock dataset of imaginary car sales data that we generated. \n",
    "In particular, the prices given in this dataset are not intended to be a realistic representation \n",
    "of the actual price of a given car. Furthermore, the years of manufacture contained in this \n",
    "dataset do not necessarily reflect the actual years in which a particular model was in \n",
    "production in the real world. \n",
    "\n",
    "### Goal\n",
    "Your goal for this exercise is to explore how supervised learning models can be used to \n",
    "predict the price of a second hand car, based on the information contained in this dataset. \n",
    "You will also study how unsupervised learning techniques can be used to identify clustering \n",
    "patterns in this dataset. \n",
    "You will write up the results of your analysis in the style of a scientific report. Your report \n",
    "should address the following questions: \n",
    "\n",
    "a. Compare regression models that predict the price of a car based on a single \n",
    "numerical input feature. Based on your results, which numerical variable in the \n",
    "dataset is the best predictor for a car’s price, and why? For each numerical input \n",
    "feature, is the price better fit by a linear model or by a non-linear (e.g. polynomial) \n",
    "model? \n",
    "\n",
    "b. Consider regression models that take multiple numerical variables as input features \n",
    "to predict the price of a car. Does the inclusion of multiple input features improve \n",
    "the accuracy of the model’s prediction compared to the single-input feature models \n",
    "that you explored in part (a)?\n",
    "\n",
    "c. In parts (a) and (b) you only considered models that use the numerical variables from \n",
    "the dataset as inputs. However, there are also several categorical variables in the \n",
    "dataset that are likely to affect the price of the car. Now train a regression model \n",
    "that uses all relevant input variables (both categorical and numerical) to predict the \n",
    "price (e.g. a Random Forest Regressor model). Does this improve the accuracy of \n",
    "your results? \n",
    "\n",
    "d. Develop an Artificial Neural Network (ANN) model to predict the price of a car based \n",
    "on all the available information from the dataset. How does its performance \n",
    "compare to the other supervised learning models that you have considered? Discuss \n",
    "your choices for the architecture of the neural network that you used, and describe \n",
    "how you tuned the hyperparameters in your model to achieve the best performance.\n",
    "\n",
    "e. Based on the results of your analysis, what is the best model for predicting the price \n",
    "of a car and why? You should use suitable figures and evaluation metrics to support \n",
    "your conclusions. \n",
    "\n",
    "f. Use the k-Means clustering algorithm to identify clusters in the car sales data. \n",
    "Consider different combinations of the numerical variables in the dataset to use as \n",
    "input features for the clustering algorithm. In each case, what is the optimal number \n",
    "of clusters (k) to use and why? Which combination of variables produces the best \n",
    "clustering results? Use appropriate evaluation metrics to support your conclusions. \n",
    "\n",
    "g. Compare the results of the k-Means clustering model from part (f) to at least one \n",
    "other clustering algorithm. Which algorithm produces the best clustering? Use \n",
    "suitable evaluation metrics to justify your answer. "
   ]
  },
  {
   "cell_type": "markdown",
   "id": "463435cb",
   "metadata": {},
   "source": [
    "# 1. Importing Required Libraries "
   ]
  },
  {
   "cell_type": "code",
   "execution_count": 66,
   "id": "f132a762",
   "metadata": {},
   "outputs": [],
   "source": [
    "# importing libraries\n",
    "\n",
    "import numpy as np\n",
    "import matplotlib.pyplot as plt\n",
    "import pandas as pd\n",
    "import warnings \n",
    "\n",
    "warnings.filterwarnings('ignore')\n"
   ]
  },
  {
   "cell_type": "markdown",
   "id": "85e39260",
   "metadata": {},
   "source": [
    "# 2. Dataset\n",
    "\n",
    "## 2.1 load dataset"
   ]
  },
  {
   "cell_type": "code",
   "execution_count": 67,
   "id": "096eb1d1",
   "metadata": {
    "scrolled": true
   },
   "outputs": [],
   "source": [
    "# loading dataset \n",
    "dataset = pd.read_csv(\"E:\\Project\\Machine Learing\\paid\\car_sales_data.csv\")"
   ]
  },
  {
   "cell_type": "code",
   "execution_count": 68,
   "id": "3efc06ae",
   "metadata": {},
   "outputs": [
    {
     "data": {
      "text/html": [
       "<div>\n",
       "<style scoped>\n",
       "    .dataframe tbody tr th:only-of-type {\n",
       "        vertical-align: middle;\n",
       "    }\n",
       "\n",
       "    .dataframe tbody tr th {\n",
       "        vertical-align: top;\n",
       "    }\n",
       "\n",
       "    .dataframe thead th {\n",
       "        text-align: right;\n",
       "    }\n",
       "</style>\n",
       "<table border=\"1\" class=\"dataframe\">\n",
       "  <thead>\n",
       "    <tr style=\"text-align: right;\">\n",
       "      <th></th>\n",
       "      <th>Manufacturer</th>\n",
       "      <th>Model</th>\n",
       "      <th>Engine size</th>\n",
       "      <th>Fuel type</th>\n",
       "      <th>Year of manufacture</th>\n",
       "      <th>Mileage</th>\n",
       "      <th>Price</th>\n",
       "    </tr>\n",
       "  </thead>\n",
       "  <tbody>\n",
       "    <tr>\n",
       "      <th>0</th>\n",
       "      <td>Ford</td>\n",
       "      <td>Fiesta</td>\n",
       "      <td>1.0</td>\n",
       "      <td>Petrol</td>\n",
       "      <td>2002</td>\n",
       "      <td>127300</td>\n",
       "      <td>3074</td>\n",
       "    </tr>\n",
       "    <tr>\n",
       "      <th>1</th>\n",
       "      <td>Porsche</td>\n",
       "      <td>718 Cayman</td>\n",
       "      <td>4.0</td>\n",
       "      <td>Petrol</td>\n",
       "      <td>2016</td>\n",
       "      <td>57850</td>\n",
       "      <td>49704</td>\n",
       "    </tr>\n",
       "    <tr>\n",
       "      <th>2</th>\n",
       "      <td>Ford</td>\n",
       "      <td>Mondeo</td>\n",
       "      <td>1.6</td>\n",
       "      <td>Diesel</td>\n",
       "      <td>2014</td>\n",
       "      <td>39190</td>\n",
       "      <td>24072</td>\n",
       "    </tr>\n",
       "    <tr>\n",
       "      <th>3</th>\n",
       "      <td>Toyota</td>\n",
       "      <td>RAV4</td>\n",
       "      <td>1.8</td>\n",
       "      <td>Hybrid</td>\n",
       "      <td>1988</td>\n",
       "      <td>210814</td>\n",
       "      <td>1705</td>\n",
       "    </tr>\n",
       "    <tr>\n",
       "      <th>4</th>\n",
       "      <td>VW</td>\n",
       "      <td>Polo</td>\n",
       "      <td>1.0</td>\n",
       "      <td>Petrol</td>\n",
       "      <td>2006</td>\n",
       "      <td>127869</td>\n",
       "      <td>4101</td>\n",
       "    </tr>\n",
       "  </tbody>\n",
       "</table>\n",
       "</div>"
      ],
      "text/plain": [
       "  Manufacturer       Model  Engine size Fuel type  Year of manufacture  \\\n",
       "0         Ford      Fiesta          1.0    Petrol                 2002   \n",
       "1      Porsche  718 Cayman          4.0    Petrol                 2016   \n",
       "2         Ford      Mondeo          1.6    Diesel                 2014   \n",
       "3       Toyota        RAV4          1.8    Hybrid                 1988   \n",
       "4           VW        Polo          1.0    Petrol                 2006   \n",
       "\n",
       "   Mileage  Price  \n",
       "0   127300   3074  \n",
       "1    57850  49704  \n",
       "2    39190  24072  \n",
       "3   210814   1705  \n",
       "4   127869   4101  "
      ]
     },
     "execution_count": 68,
     "metadata": {},
     "output_type": "execute_result"
    }
   ],
   "source": [
    "dataset.head()"
   ]
  },
  {
   "cell_type": "markdown",
   "id": "bd45cd43",
   "metadata": {},
   "source": [
    "## 2.2 Dataset size"
   ]
  },
  {
   "cell_type": "code",
   "execution_count": 69,
   "id": "db51584a",
   "metadata": {},
   "outputs": [
    {
     "data": {
      "text/plain": [
       "(50000, 7)"
      ]
     },
     "execution_count": 69,
     "metadata": {},
     "output_type": "execute_result"
    }
   ],
   "source": [
    "dataset.shape"
   ]
  },
  {
   "cell_type": "markdown",
   "id": "4fb7493f",
   "metadata": {},
   "source": [
    "## 2.3 Taking care of missing values "
   ]
  },
  {
   "cell_type": "code",
   "execution_count": 70,
   "id": "7d4c7626",
   "metadata": {},
   "outputs": [
    {
     "data": {
      "text/plain": [
       "False"
      ]
     },
     "execution_count": 70,
     "metadata": {},
     "output_type": "execute_result"
    }
   ],
   "source": [
    "# taking care of missing values\n",
    "\n",
    "dataset.isnull().values.any()"
   ]
  },
  {
   "cell_type": "markdown",
   "id": "9d644443",
   "metadata": {},
   "source": [
    "## 2.4 Dataset summary"
   ]
  },
  {
   "cell_type": "code",
   "execution_count": 71,
   "id": "fa7c9b0b",
   "metadata": {},
   "outputs": [
    {
     "data": {
      "text/html": [
       "<div>\n",
       "<style scoped>\n",
       "    .dataframe tbody tr th:only-of-type {\n",
       "        vertical-align: middle;\n",
       "    }\n",
       "\n",
       "    .dataframe tbody tr th {\n",
       "        vertical-align: top;\n",
       "    }\n",
       "\n",
       "    .dataframe thead th {\n",
       "        text-align: right;\n",
       "    }\n",
       "</style>\n",
       "<table border=\"1\" class=\"dataframe\">\n",
       "  <thead>\n",
       "    <tr style=\"text-align: right;\">\n",
       "      <th></th>\n",
       "      <th>Engine size</th>\n",
       "      <th>Year of manufacture</th>\n",
       "      <th>Mileage</th>\n",
       "      <th>Price</th>\n",
       "    </tr>\n",
       "  </thead>\n",
       "  <tbody>\n",
       "    <tr>\n",
       "      <th>count</th>\n",
       "      <td>50000.000000</td>\n",
       "      <td>50000.000000</td>\n",
       "      <td>50000.000000</td>\n",
       "      <td>50000.000000</td>\n",
       "    </tr>\n",
       "    <tr>\n",
       "      <th>mean</th>\n",
       "      <td>1.773058</td>\n",
       "      <td>2004.209440</td>\n",
       "      <td>112497.320700</td>\n",
       "      <td>13828.903160</td>\n",
       "    </tr>\n",
       "    <tr>\n",
       "      <th>std</th>\n",
       "      <td>0.734108</td>\n",
       "      <td>9.645965</td>\n",
       "      <td>71632.515602</td>\n",
       "      <td>16416.681336</td>\n",
       "    </tr>\n",
       "    <tr>\n",
       "      <th>min</th>\n",
       "      <td>1.000000</td>\n",
       "      <td>1984.000000</td>\n",
       "      <td>630.000000</td>\n",
       "      <td>76.000000</td>\n",
       "    </tr>\n",
       "    <tr>\n",
       "      <th>25%</th>\n",
       "      <td>1.400000</td>\n",
       "      <td>1996.000000</td>\n",
       "      <td>54352.250000</td>\n",
       "      <td>3060.750000</td>\n",
       "    </tr>\n",
       "    <tr>\n",
       "      <th>50%</th>\n",
       "      <td>1.600000</td>\n",
       "      <td>2004.000000</td>\n",
       "      <td>100987.500000</td>\n",
       "      <td>7971.500000</td>\n",
       "    </tr>\n",
       "    <tr>\n",
       "      <th>75%</th>\n",
       "      <td>2.000000</td>\n",
       "      <td>2012.000000</td>\n",
       "      <td>158601.000000</td>\n",
       "      <td>19026.500000</td>\n",
       "    </tr>\n",
       "    <tr>\n",
       "      <th>max</th>\n",
       "      <td>5.000000</td>\n",
       "      <td>2022.000000</td>\n",
       "      <td>453537.000000</td>\n",
       "      <td>168081.000000</td>\n",
       "    </tr>\n",
       "  </tbody>\n",
       "</table>\n",
       "</div>"
      ],
      "text/plain": [
       "        Engine size  Year of manufacture        Mileage          Price\n",
       "count  50000.000000         50000.000000   50000.000000   50000.000000\n",
       "mean       1.773058          2004.209440  112497.320700   13828.903160\n",
       "std        0.734108             9.645965   71632.515602   16416.681336\n",
       "min        1.000000          1984.000000     630.000000      76.000000\n",
       "25%        1.400000          1996.000000   54352.250000    3060.750000\n",
       "50%        1.600000          2004.000000  100987.500000    7971.500000\n",
       "75%        2.000000          2012.000000  158601.000000   19026.500000\n",
       "max        5.000000          2022.000000  453537.000000  168081.000000"
      ]
     },
     "execution_count": 71,
     "metadata": {},
     "output_type": "execute_result"
    }
   ],
   "source": [
    "dataset.describe()"
   ]
  },
  {
   "cell_type": "markdown",
   "id": "bbecb5ff",
   "metadata": {},
   "source": [
    "## 2.5 Chack unique values of every column"
   ]
  },
  {
   "cell_type": "code",
   "execution_count": 72,
   "id": "ef881b7f",
   "metadata": {},
   "outputs": [
    {
     "data": {
      "text/plain": [
       "array(['Ford', 'Porsche', 'Toyota', 'VW', 'BMW'], dtype=object)"
      ]
     },
     "execution_count": 72,
     "metadata": {},
     "output_type": "execute_result"
    }
   ],
   "source": [
    "dataset['Manufacturer'].unique() # manufacturer names"
   ]
  },
  {
   "cell_type": "code",
   "execution_count": 73,
   "id": "129e0494",
   "metadata": {},
   "outputs": [
    {
     "data": {
      "text/plain": [
       "array(['Fiesta', '718 Cayman', 'Mondeo', 'RAV4', 'Polo', 'Focus', 'Prius',\n",
       "       'Golf', 'Z4', 'Yaris', '911', 'Passat', 'M5', 'Cayenne', 'X3'],\n",
       "      dtype=object)"
      ]
     },
     "execution_count": 73,
     "metadata": {},
     "output_type": "execute_result"
    }
   ],
   "source": [
    "dataset['Model'].unique() # models name"
   ]
  },
  {
   "cell_type": "code",
   "execution_count": 74,
   "id": "e9a94d11",
   "metadata": {},
   "outputs": [
    {
     "data": {
      "text/plain": [
       "15"
      ]
     },
     "execution_count": 74,
     "metadata": {},
     "output_type": "execute_result"
    }
   ],
   "source": [
    "dataset['Model'].unique().size # number of unique models"
   ]
  },
  {
   "cell_type": "code",
   "execution_count": 75,
   "id": "7ddf1bec",
   "metadata": {},
   "outputs": [
    {
     "data": {
      "text/plain": [
       "array(['Petrol', 'Diesel', 'Hybrid'], dtype=object)"
      ]
     },
     "execution_count": 75,
     "metadata": {},
     "output_type": "execute_result"
    }
   ],
   "source": [
    "dataset['Fuel type'].unique() # fuel type "
   ]
  },
  {
   "cell_type": "markdown",
   "id": "673b6b39",
   "metadata": {},
   "source": [
    "## 2.6 Extract feature input variables and target variables"
   ]
  },
  {
   "cell_type": "code",
   "execution_count": 76,
   "id": "ab29bd83",
   "metadata": {},
   "outputs": [],
   "source": [
    "X = dataset.iloc[:, :-1].values\n",
    "Y = dataset.iloc[:, 6:].values"
   ]
  },
  {
   "cell_type": "code",
   "execution_count": 77,
   "id": "2ffbd53c",
   "metadata": {},
   "outputs": [
    {
     "data": {
      "text/plain": [
       "array([['Ford', 'Fiesta', 1.0, 'Petrol', 2002, 127300],\n",
       "       ['Porsche', '718 Cayman', 4.0, 'Petrol', 2016, 57850],\n",
       "       ['Ford', 'Mondeo', 1.6, 'Diesel', 2014, 39190],\n",
       "       ...,\n",
       "       ['Ford', 'Mondeo', 1.6, 'Diesel', 2022, 4030],\n",
       "       ['Ford', 'Focus', 1.0, 'Diesel', 2016, 26468],\n",
       "       ['VW', 'Golf', 1.4, 'Diesel', 2012, 109300]], dtype=object)"
      ]
     },
     "execution_count": 77,
     "metadata": {},
     "output_type": "execute_result"
    }
   ],
   "source": [
    "X"
   ]
  },
  {
   "cell_type": "code",
   "execution_count": 78,
   "id": "30d39d5d",
   "metadata": {},
   "outputs": [
    {
     "data": {
      "text/plain": [
       "50000"
      ]
     },
     "execution_count": 78,
     "metadata": {},
     "output_type": "execute_result"
    }
   ],
   "source": [
    "Y.size"
   ]
  },
  {
   "cell_type": "markdown",
   "id": "002fa477",
   "metadata": {},
   "source": [
    "# 3. spliting dataset into the Traing data set and  Testing data set\n"
   ]
  },
  {
   "cell_type": "code",
   "execution_count": 79,
   "id": "f398ac4b",
   "metadata": {},
   "outputs": [],
   "source": [
    "# spliting dataset into the Traing data set and  Testing data set\n",
    "from sklearn.model_selection import train_test_split\n",
    "X_train, X_test, Y_train, Y_test = train_test_split(X, Y, test_size  = 1/3, random_state = 0)"
   ]
  },
  {
   "cell_type": "code",
   "execution_count": 80,
   "id": "1e8662d3",
   "metadata": {},
   "outputs": [
    {
     "name": "stdout",
     "output_type": "stream",
     "text": [
      "(33333, 6) (33333, 1)\n"
     ]
    }
   ],
   "source": [
    "print(X_train.shape, Y_train.shape)"
   ]
  },
  {
   "cell_type": "code",
   "execution_count": 81,
   "id": "4ce08134",
   "metadata": {},
   "outputs": [
    {
     "name": "stdout",
     "output_type": "stream",
     "text": [
      "(16667, 6) (16667, 1)\n"
     ]
    }
   ],
   "source": [
    "print(X_test.shape, Y_test.shape)"
   ]
  },
  {
   "cell_type": "markdown",
   "id": "f5bcda6f",
   "metadata": {},
   "source": [
    "# 4. Applying supervised learning"
   ]
  },
  {
   "cell_type": "markdown",
   "id": "8e99f764",
   "metadata": {},
   "source": [
    "##  4.1 Single Numerical input feature\n",
    "\n",
    "Comparing regression models that predict the price of a car based on a single \n",
    "numerical input feature. Checking for each numerical input \n",
    "feature, is the price better fit by a linear model or by a non-linear (e.g. polynomial) \n",
    "model.\n",
    "Also Determining which numerical variable in the \n",
    "dataset is the best predictor for a car’s price"
   ]
  },
  {
   "cell_type": "markdown",
   "id": "3c102ba8",
   "metadata": {},
   "source": [
    "### 4.1.1 Extracting every single numerical feature lies in the dataset"
   ]
  },
  {
   "cell_type": "code",
   "execution_count": 82,
   "id": "76218fcc",
   "metadata": {},
   "outputs": [],
   "source": [
    "X_train_engine = X_train[:, 2:3]\n",
    "X_train_manufacture = X_train[:, 4:5]\n",
    "X_train_mileage = X_train[:, 5:6]"
   ]
  },
  {
   "cell_type": "markdown",
   "id": "3ae3118b",
   "metadata": {},
   "source": [
    "### 4.1.2 fitting simple linear regression to the training set\n"
   ]
  },
  {
   "cell_type": "code",
   "execution_count": 83,
   "id": "9fe0da61",
   "metadata": {},
   "outputs": [
    {
     "data": {
      "text/html": [
       "<style>#sk-container-id-4 {color: black;}#sk-container-id-4 pre{padding: 0;}#sk-container-id-4 div.sk-toggleable {background-color: white;}#sk-container-id-4 label.sk-toggleable__label {cursor: pointer;display: block;width: 100%;margin-bottom: 0;padding: 0.3em;box-sizing: border-box;text-align: center;}#sk-container-id-4 label.sk-toggleable__label-arrow:before {content: \"▸\";float: left;margin-right: 0.25em;color: #696969;}#sk-container-id-4 label.sk-toggleable__label-arrow:hover:before {color: black;}#sk-container-id-4 div.sk-estimator:hover label.sk-toggleable__label-arrow:before {color: black;}#sk-container-id-4 div.sk-toggleable__content {max-height: 0;max-width: 0;overflow: hidden;text-align: left;background-color: #f0f8ff;}#sk-container-id-4 div.sk-toggleable__content pre {margin: 0.2em;color: black;border-radius: 0.25em;background-color: #f0f8ff;}#sk-container-id-4 input.sk-toggleable__control:checked~div.sk-toggleable__content {max-height: 200px;max-width: 100%;overflow: auto;}#sk-container-id-4 input.sk-toggleable__control:checked~label.sk-toggleable__label-arrow:before {content: \"▾\";}#sk-container-id-4 div.sk-estimator input.sk-toggleable__control:checked~label.sk-toggleable__label {background-color: #d4ebff;}#sk-container-id-4 div.sk-label input.sk-toggleable__control:checked~label.sk-toggleable__label {background-color: #d4ebff;}#sk-container-id-4 input.sk-hidden--visually {border: 0;clip: rect(1px 1px 1px 1px);clip: rect(1px, 1px, 1px, 1px);height: 1px;margin: -1px;overflow: hidden;padding: 0;position: absolute;width: 1px;}#sk-container-id-4 div.sk-estimator {font-family: monospace;background-color: #f0f8ff;border: 1px dotted black;border-radius: 0.25em;box-sizing: border-box;margin-bottom: 0.5em;}#sk-container-id-4 div.sk-estimator:hover {background-color: #d4ebff;}#sk-container-id-4 div.sk-parallel-item::after {content: \"\";width: 100%;border-bottom: 1px solid gray;flex-grow: 1;}#sk-container-id-4 div.sk-label:hover label.sk-toggleable__label {background-color: #d4ebff;}#sk-container-id-4 div.sk-serial::before {content: \"\";position: absolute;border-left: 1px solid gray;box-sizing: border-box;top: 0;bottom: 0;left: 50%;z-index: 0;}#sk-container-id-4 div.sk-serial {display: flex;flex-direction: column;align-items: center;background-color: white;padding-right: 0.2em;padding-left: 0.2em;position: relative;}#sk-container-id-4 div.sk-item {position: relative;z-index: 1;}#sk-container-id-4 div.sk-parallel {display: flex;align-items: stretch;justify-content: center;background-color: white;position: relative;}#sk-container-id-4 div.sk-item::before, #sk-container-id-4 div.sk-parallel-item::before {content: \"\";position: absolute;border-left: 1px solid gray;box-sizing: border-box;top: 0;bottom: 0;left: 50%;z-index: -1;}#sk-container-id-4 div.sk-parallel-item {display: flex;flex-direction: column;z-index: 1;position: relative;background-color: white;}#sk-container-id-4 div.sk-parallel-item:first-child::after {align-self: flex-end;width: 50%;}#sk-container-id-4 div.sk-parallel-item:last-child::after {align-self: flex-start;width: 50%;}#sk-container-id-4 div.sk-parallel-item:only-child::after {width: 0;}#sk-container-id-4 div.sk-dashed-wrapped {border: 1px dashed gray;margin: 0 0.4em 0.5em 0.4em;box-sizing: border-box;padding-bottom: 0.4em;background-color: white;}#sk-container-id-4 div.sk-label label {font-family: monospace;font-weight: bold;display: inline-block;line-height: 1.2em;}#sk-container-id-4 div.sk-label-container {text-align: center;}#sk-container-id-4 div.sk-container {/* jupyter's `normalize.less` sets `[hidden] { display: none; }` but bootstrap.min.css set `[hidden] { display: none !important; }` so we also need the `!important` here to be able to override the default hidden behavior on the sphinx rendered scikit-learn.org. See: https://github.com/scikit-learn/scikit-learn/issues/21755 */display: inline-block !important;position: relative;}#sk-container-id-4 div.sk-text-repr-fallback {display: none;}</style><div id=\"sk-container-id-4\" class=\"sk-top-container\"><div class=\"sk-text-repr-fallback\"><pre>LinearRegression()</pre><b>In a Jupyter environment, please rerun this cell to show the HTML representation or trust the notebook. <br />On GitHub, the HTML representation is unable to render, please try loading this page with nbviewer.org.</b></div><div class=\"sk-container\" hidden><div class=\"sk-item\"><div class=\"sk-estimator sk-toggleable\"><input class=\"sk-toggleable__control sk-hidden--visually\" id=\"sk-estimator-id-4\" type=\"checkbox\" checked><label for=\"sk-estimator-id-4\" class=\"sk-toggleable__label sk-toggleable__label-arrow\">LinearRegression</label><div class=\"sk-toggleable__content\"><pre>LinearRegression()</pre></div></div></div></div></div>"
      ],
      "text/plain": [
       "LinearRegression()"
      ]
     },
     "execution_count": 83,
     "metadata": {},
     "output_type": "execute_result"
    }
   ],
   "source": [
    "# fitting simple linear regression to the training set\n",
    "\n",
    "from sklearn.linear_model import LinearRegression\n",
    "\n",
    "regressor_engine_size  = LinearRegression()\n",
    "regressor_Year_of_manufacture  = LinearRegression()\n",
    "regressor_Mileage = LinearRegression()\n",
    "\n",
    "\n",
    "regressor_engine_size.fit(X_train_engine, Y_train)\n",
    "regressor_Year_of_manufacture.fit(X_train_manufacture, Y_train)\n",
    "regressor_Mileage.fit(X_train_mileage, Y_train)\n"
   ]
  },
  {
   "cell_type": "markdown",
   "id": "8ef7382b",
   "metadata": {},
   "source": [
    "### 4.1.3 Calculating the R-square value for each numerical features's model"
   ]
  },
  {
   "cell_type": "code",
   "execution_count": 84,
   "id": "134bc0c0",
   "metadata": {},
   "outputs": [
    {
     "name": "stdout",
     "output_type": "stream",
     "text": [
      "The R-square Score in Linear Regression using\n",
      "\n",
      "Engine size = 0.1579553281999313\n",
      "Year of manufacture = 0.510984724303591\n",
      "Mileage = 0.3983649608124491\n"
     ]
    }
   ],
   "source": [
    "# Calculating the R-square value for each numerical features's model\n",
    "\n",
    "engine = regressor_engine_size.score(X_test[:, 2:3], Y_test)\n",
    "manufacture = regressor_Year_of_manufacture.score(X_test[:, 4:5], Y_test)\n",
    "mileage = regressor_Mileage.score(X_test[:, 5:6], Y_test)\n",
    "\n",
    "print(f\"The R-square Score in Linear Regression using\\n\\nEngine size = {engine}\\nYear of manufacture = {manufacture}\\nMileage = {mileage}\")"
   ]
  },
  {
   "cell_type": "markdown",
   "id": "41ea0c84",
   "metadata": {},
   "source": [
    "### 4.1.4 PolynomialFeatures with degree 2 (adjust the degree)\n"
   ]
  },
  {
   "cell_type": "code",
   "execution_count": 85,
   "id": "2a2d6939",
   "metadata": {},
   "outputs": [
    {
     "name": "stdout",
     "output_type": "stream",
     "text": [
      "The R-square Score in Polynomial Regression using\n",
      "\n",
      "Engine size = 0.1579553281999313\n",
      "Year of manufacture = 0.510984724303591\n",
      "Mileage = 0.3983649608124491\n"
     ]
    }
   ],
   "source": [
    "# PolynomialFeatures with degree 2 (adjust the degree)\n",
    "\n",
    "from sklearn.preprocessing import PolynomialFeatures\n",
    "\n",
    "poly_engine = PolynomialFeatures(degree=2)\n",
    "poly_manufacture = PolynomialFeatures(degree=2)\n",
    "poly_mileage = PolynomialFeatures(degree=2)\n",
    "\n",
    "\n",
    "poly_regressor_engine  = LinearRegression()\n",
    "poly_regressor_manufacture  = LinearRegression()\n",
    "poly_regressor_mileage = LinearRegression()\n",
    "\n",
    "\n",
    "poly_regressor_engine.fit(poly_engine.fit_transform(X_train_engine), Y_train)\n",
    "a = poly_regressor_engine.score(poly_engine.fit_transform(X_test[:, 2:3]), Y_test)\n",
    "\n",
    "poly_regressor_manufacture.fit(poly_manufacture.fit_transform(X_train_manufacture), Y_train)\n",
    "b = poly_regressor_engine.score(poly_engine.fit_transform(X_test[:, 4:5]), Y_test)\n",
    "\n",
    "poly_regressor_mileage.fit(poly_mileage.fit_transform(X_train_mileage), Y_train)\n",
    "c = poly_regressor_engine.score(poly_engine.fit_transform(X_test[:, 5:6]), Y_test)\n",
    "\n",
    "\n",
    "print(f\"The R-square Score in Polynomial Regression using\\n\\nEngine size = {engine}\\nYear of manufacture = {manufacture}\\nMileage = {mileage}\")"
   ]
  },
  {
   "cell_type": "markdown",
   "id": "380ad34c",
   "metadata": {},
   "source": [
    "## 4.2 Multiple Numerical input feature\n",
    "\n",
    "### 4.2.1 Extract training and testeing data "
   ]
  },
  {
   "cell_type": "code",
   "execution_count": 86,
   "id": "bcc273a0",
   "metadata": {},
   "outputs": [],
   "source": [
    "X_multiple= dataset[['Engine size', 'Year of manufacture', 'Mileage']]\n",
    "y_multiple = dataset['Price']\n",
    "\n",
    "X_train_mul, X_test_mul, y_train_mul, y_test_mul = train_test_split(X_multiple, y_multiple, test_size=0.2, random_state=0)\n"
   ]
  },
  {
   "cell_type": "markdown",
   "id": "25c60570",
   "metadata": {},
   "source": [
    "### 4.2.2 Create regression mode and fit to the training data"
   ]
  },
  {
   "cell_type": "code",
   "execution_count": 87,
   "id": "8bab04b9",
   "metadata": {},
   "outputs": [
    {
     "data": {
      "text/html": [
       "<style>#sk-container-id-5 {color: black;}#sk-container-id-5 pre{padding: 0;}#sk-container-id-5 div.sk-toggleable {background-color: white;}#sk-container-id-5 label.sk-toggleable__label {cursor: pointer;display: block;width: 100%;margin-bottom: 0;padding: 0.3em;box-sizing: border-box;text-align: center;}#sk-container-id-5 label.sk-toggleable__label-arrow:before {content: \"▸\";float: left;margin-right: 0.25em;color: #696969;}#sk-container-id-5 label.sk-toggleable__label-arrow:hover:before {color: black;}#sk-container-id-5 div.sk-estimator:hover label.sk-toggleable__label-arrow:before {color: black;}#sk-container-id-5 div.sk-toggleable__content {max-height: 0;max-width: 0;overflow: hidden;text-align: left;background-color: #f0f8ff;}#sk-container-id-5 div.sk-toggleable__content pre {margin: 0.2em;color: black;border-radius: 0.25em;background-color: #f0f8ff;}#sk-container-id-5 input.sk-toggleable__control:checked~div.sk-toggleable__content {max-height: 200px;max-width: 100%;overflow: auto;}#sk-container-id-5 input.sk-toggleable__control:checked~label.sk-toggleable__label-arrow:before {content: \"▾\";}#sk-container-id-5 div.sk-estimator input.sk-toggleable__control:checked~label.sk-toggleable__label {background-color: #d4ebff;}#sk-container-id-5 div.sk-label input.sk-toggleable__control:checked~label.sk-toggleable__label {background-color: #d4ebff;}#sk-container-id-5 input.sk-hidden--visually {border: 0;clip: rect(1px 1px 1px 1px);clip: rect(1px, 1px, 1px, 1px);height: 1px;margin: -1px;overflow: hidden;padding: 0;position: absolute;width: 1px;}#sk-container-id-5 div.sk-estimator {font-family: monospace;background-color: #f0f8ff;border: 1px dotted black;border-radius: 0.25em;box-sizing: border-box;margin-bottom: 0.5em;}#sk-container-id-5 div.sk-estimator:hover {background-color: #d4ebff;}#sk-container-id-5 div.sk-parallel-item::after {content: \"\";width: 100%;border-bottom: 1px solid gray;flex-grow: 1;}#sk-container-id-5 div.sk-label:hover label.sk-toggleable__label {background-color: #d4ebff;}#sk-container-id-5 div.sk-serial::before {content: \"\";position: absolute;border-left: 1px solid gray;box-sizing: border-box;top: 0;bottom: 0;left: 50%;z-index: 0;}#sk-container-id-5 div.sk-serial {display: flex;flex-direction: column;align-items: center;background-color: white;padding-right: 0.2em;padding-left: 0.2em;position: relative;}#sk-container-id-5 div.sk-item {position: relative;z-index: 1;}#sk-container-id-5 div.sk-parallel {display: flex;align-items: stretch;justify-content: center;background-color: white;position: relative;}#sk-container-id-5 div.sk-item::before, #sk-container-id-5 div.sk-parallel-item::before {content: \"\";position: absolute;border-left: 1px solid gray;box-sizing: border-box;top: 0;bottom: 0;left: 50%;z-index: -1;}#sk-container-id-5 div.sk-parallel-item {display: flex;flex-direction: column;z-index: 1;position: relative;background-color: white;}#sk-container-id-5 div.sk-parallel-item:first-child::after {align-self: flex-end;width: 50%;}#sk-container-id-5 div.sk-parallel-item:last-child::after {align-self: flex-start;width: 50%;}#sk-container-id-5 div.sk-parallel-item:only-child::after {width: 0;}#sk-container-id-5 div.sk-dashed-wrapped {border: 1px dashed gray;margin: 0 0.4em 0.5em 0.4em;box-sizing: border-box;padding-bottom: 0.4em;background-color: white;}#sk-container-id-5 div.sk-label label {font-family: monospace;font-weight: bold;display: inline-block;line-height: 1.2em;}#sk-container-id-5 div.sk-label-container {text-align: center;}#sk-container-id-5 div.sk-container {/* jupyter's `normalize.less` sets `[hidden] { display: none; }` but bootstrap.min.css set `[hidden] { display: none !important; }` so we also need the `!important` here to be able to override the default hidden behavior on the sphinx rendered scikit-learn.org. See: https://github.com/scikit-learn/scikit-learn/issues/21755 */display: inline-block !important;position: relative;}#sk-container-id-5 div.sk-text-repr-fallback {display: none;}</style><div id=\"sk-container-id-5\" class=\"sk-top-container\"><div class=\"sk-text-repr-fallback\"><pre>LinearRegression()</pre><b>In a Jupyter environment, please rerun this cell to show the HTML representation or trust the notebook. <br />On GitHub, the HTML representation is unable to render, please try loading this page with nbviewer.org.</b></div><div class=\"sk-container\" hidden><div class=\"sk-item\"><div class=\"sk-estimator sk-toggleable\"><input class=\"sk-toggleable__control sk-hidden--visually\" id=\"sk-estimator-id-5\" type=\"checkbox\" checked><label for=\"sk-estimator-id-5\" class=\"sk-toggleable__label sk-toggleable__label-arrow\">LinearRegression</label><div class=\"sk-toggleable__content\"><pre>LinearRegression()</pre></div></div></div></div></div>"
      ],
      "text/plain": [
       "LinearRegression()"
      ]
     },
     "execution_count": 87,
     "metadata": {},
     "output_type": "execute_result"
    }
   ],
   "source": [
    "regressor1 = LinearRegression()\n",
    "regressor2 = LinearRegression()\n",
    "\n",
    "regressor1.fit(X_train_mul, y_train_mul)\n",
    "\n",
    "poly_mul = PolynomialFeatures(degree = 2)\n",
    "regressor2.fit(poly_mul.fit_transform(X_train_mul), y_train_mul)"
   ]
  },
  {
   "cell_type": "markdown",
   "id": "81f3918f",
   "metadata": {},
   "source": [
    "### 4.2.3 Calculate R-square value"
   ]
  },
  {
   "cell_type": "code",
   "execution_count": 88,
   "id": "2d535dde",
   "metadata": {},
   "outputs": [
    {
     "name": "stdout",
     "output_type": "stream",
     "text": [
      "R-squre Score in Linear Regression = 0.6749798831772409\n",
      "R-square Score in Polynomial Regression = 0.8941503326884358\n"
     ]
    }
   ],
   "source": [
    "pa = regressor1.score(X_test_mul, y_test_mul)\n",
    "\n",
    "pb = regressor2.score(poly_mul.fit_transform(X_test_mul), y_test_mul)\n",
    "\n",
    "print(f\"R-squre Score in Linear Regression = {pa}\\nR-square Score in Polynomial Regression = {pb}\")"
   ]
  },
  {
   "cell_type": "markdown",
   "id": "17d91684",
   "metadata": {},
   "source": [
    "## 4.3 Random Forest\n",
    "\n",
    "### 4.3.1 Importing libraries"
   ]
  },
  {
   "cell_type": "code",
   "execution_count": 89,
   "id": "0d2486c0",
   "metadata": {},
   "outputs": [],
   "source": [
    "# libraries \n",
    "from sklearn.ensemble import RandomForestRegressor\n",
    "from sklearn.metrics import mean_squared_error, r2_score\n",
    "from sklearn.preprocessing import OneHotEncoder\n"
   ]
  },
  {
   "cell_type": "markdown",
   "id": "5c649fab",
   "metadata": {},
   "source": [
    "### 4.3.2 Extract features (X) and target variable (y)"
   ]
  },
  {
   "cell_type": "code",
   "execution_count": 90,
   "id": "39ce6067",
   "metadata": {},
   "outputs": [],
   "source": [
    "# Extract features (X) and target variable (y)\n",
    "X = dataset.drop('Price', axis=1)\n",
    "y = dataset['Price'] \n"
   ]
  },
  {
   "cell_type": "code",
   "execution_count": 91,
   "id": "842f5071",
   "metadata": {},
   "outputs": [
    {
     "data": {
      "text/html": [
       "<div>\n",
       "<style scoped>\n",
       "    .dataframe tbody tr th:only-of-type {\n",
       "        vertical-align: middle;\n",
       "    }\n",
       "\n",
       "    .dataframe tbody tr th {\n",
       "        vertical-align: top;\n",
       "    }\n",
       "\n",
       "    .dataframe thead th {\n",
       "        text-align: right;\n",
       "    }\n",
       "</style>\n",
       "<table border=\"1\" class=\"dataframe\">\n",
       "  <thead>\n",
       "    <tr style=\"text-align: right;\">\n",
       "      <th></th>\n",
       "      <th>Manufacturer</th>\n",
       "      <th>Model</th>\n",
       "      <th>Engine size</th>\n",
       "      <th>Fuel type</th>\n",
       "      <th>Year of manufacture</th>\n",
       "      <th>Mileage</th>\n",
       "    </tr>\n",
       "  </thead>\n",
       "  <tbody>\n",
       "    <tr>\n",
       "      <th>0</th>\n",
       "      <td>Ford</td>\n",
       "      <td>Fiesta</td>\n",
       "      <td>1.0</td>\n",
       "      <td>Petrol</td>\n",
       "      <td>2002</td>\n",
       "      <td>127300</td>\n",
       "    </tr>\n",
       "    <tr>\n",
       "      <th>1</th>\n",
       "      <td>Porsche</td>\n",
       "      <td>718 Cayman</td>\n",
       "      <td>4.0</td>\n",
       "      <td>Petrol</td>\n",
       "      <td>2016</td>\n",
       "      <td>57850</td>\n",
       "    </tr>\n",
       "    <tr>\n",
       "      <th>2</th>\n",
       "      <td>Ford</td>\n",
       "      <td>Mondeo</td>\n",
       "      <td>1.6</td>\n",
       "      <td>Diesel</td>\n",
       "      <td>2014</td>\n",
       "      <td>39190</td>\n",
       "    </tr>\n",
       "    <tr>\n",
       "      <th>3</th>\n",
       "      <td>Toyota</td>\n",
       "      <td>RAV4</td>\n",
       "      <td>1.8</td>\n",
       "      <td>Hybrid</td>\n",
       "      <td>1988</td>\n",
       "      <td>210814</td>\n",
       "    </tr>\n",
       "    <tr>\n",
       "      <th>4</th>\n",
       "      <td>VW</td>\n",
       "      <td>Polo</td>\n",
       "      <td>1.0</td>\n",
       "      <td>Petrol</td>\n",
       "      <td>2006</td>\n",
       "      <td>127869</td>\n",
       "    </tr>\n",
       "    <tr>\n",
       "      <th>...</th>\n",
       "      <td>...</td>\n",
       "      <td>...</td>\n",
       "      <td>...</td>\n",
       "      <td>...</td>\n",
       "      <td>...</td>\n",
       "      <td>...</td>\n",
       "    </tr>\n",
       "    <tr>\n",
       "      <th>49995</th>\n",
       "      <td>BMW</td>\n",
       "      <td>M5</td>\n",
       "      <td>5.0</td>\n",
       "      <td>Petrol</td>\n",
       "      <td>2018</td>\n",
       "      <td>28664</td>\n",
       "    </tr>\n",
       "    <tr>\n",
       "      <th>49996</th>\n",
       "      <td>Toyota</td>\n",
       "      <td>Prius</td>\n",
       "      <td>1.8</td>\n",
       "      <td>Hybrid</td>\n",
       "      <td>2003</td>\n",
       "      <td>105120</td>\n",
       "    </tr>\n",
       "    <tr>\n",
       "      <th>49997</th>\n",
       "      <td>Ford</td>\n",
       "      <td>Mondeo</td>\n",
       "      <td>1.6</td>\n",
       "      <td>Diesel</td>\n",
       "      <td>2022</td>\n",
       "      <td>4030</td>\n",
       "    </tr>\n",
       "    <tr>\n",
       "      <th>49998</th>\n",
       "      <td>Ford</td>\n",
       "      <td>Focus</td>\n",
       "      <td>1.0</td>\n",
       "      <td>Diesel</td>\n",
       "      <td>2016</td>\n",
       "      <td>26468</td>\n",
       "    </tr>\n",
       "    <tr>\n",
       "      <th>49999</th>\n",
       "      <td>VW</td>\n",
       "      <td>Golf</td>\n",
       "      <td>1.4</td>\n",
       "      <td>Diesel</td>\n",
       "      <td>2012</td>\n",
       "      <td>109300</td>\n",
       "    </tr>\n",
       "  </tbody>\n",
       "</table>\n",
       "<p>50000 rows × 6 columns</p>\n",
       "</div>"
      ],
      "text/plain": [
       "      Manufacturer       Model  Engine size Fuel type  Year of manufacture  \\\n",
       "0             Ford      Fiesta          1.0    Petrol                 2002   \n",
       "1          Porsche  718 Cayman          4.0    Petrol                 2016   \n",
       "2             Ford      Mondeo          1.6    Diesel                 2014   \n",
       "3           Toyota        RAV4          1.8    Hybrid                 1988   \n",
       "4               VW        Polo          1.0    Petrol                 2006   \n",
       "...            ...         ...          ...       ...                  ...   \n",
       "49995          BMW          M5          5.0    Petrol                 2018   \n",
       "49996       Toyota       Prius          1.8    Hybrid                 2003   \n",
       "49997         Ford      Mondeo          1.6    Diesel                 2022   \n",
       "49998         Ford       Focus          1.0    Diesel                 2016   \n",
       "49999           VW        Golf          1.4    Diesel                 2012   \n",
       "\n",
       "       Mileage  \n",
       "0       127300  \n",
       "1        57850  \n",
       "2        39190  \n",
       "3       210814  \n",
       "4       127869  \n",
       "...        ...  \n",
       "49995    28664  \n",
       "49996   105120  \n",
       "49997     4030  \n",
       "49998    26468  \n",
       "49999   109300  \n",
       "\n",
       "[50000 rows x 6 columns]"
      ]
     },
     "execution_count": 91,
     "metadata": {},
     "output_type": "execute_result"
    }
   ],
   "source": [
    "X"
   ]
  },
  {
   "cell_type": "code",
   "execution_count": 92,
   "id": "c1be92cd",
   "metadata": {},
   "outputs": [
    {
     "data": {
      "text/plain": [
       "0          3074\n",
       "1         49704\n",
       "2         24072\n",
       "3          1705\n",
       "4          4101\n",
       "          ...  \n",
       "49995    113006\n",
       "49996      9430\n",
       "49997     49852\n",
       "49998     23630\n",
       "49999     10400\n",
       "Name: Price, Length: 50000, dtype: int64"
      ]
     },
     "execution_count": 92,
     "metadata": {},
     "output_type": "execute_result"
    }
   ],
   "source": [
    "y"
   ]
  },
  {
   "cell_type": "markdown",
   "id": "ab13b738",
   "metadata": {},
   "source": [
    "### 4.3.3 Perform categorical encoding on the 'Manufacturer', 'Model' and 'Fuel type' columns\n"
   ]
  },
  {
   "cell_type": "code",
   "execution_count": 93,
   "id": "f37c123a",
   "metadata": {},
   "outputs": [],
   "source": [
    "# Perform categorical encoding on the 'Manufacturer', 'Model' and 'Fuel type' columns\n",
    "\n",
    "encoder = OneHotEncoder(sparse=False, drop='first')\n",
    "X_encoded = pd.DataFrame(encoder.fit_transform(X[['Manufacturer', 'Model', 'Fuel type']]))\n"
   ]
  },
  {
   "cell_type": "code",
   "execution_count": 94,
   "id": "f4b75882",
   "metadata": {},
   "outputs": [
    {
     "data": {
      "text/html": [
       "<div>\n",
       "<style scoped>\n",
       "    .dataframe tbody tr th:only-of-type {\n",
       "        vertical-align: middle;\n",
       "    }\n",
       "\n",
       "    .dataframe tbody tr th {\n",
       "        vertical-align: top;\n",
       "    }\n",
       "\n",
       "    .dataframe thead th {\n",
       "        text-align: right;\n",
       "    }\n",
       "</style>\n",
       "<table border=\"1\" class=\"dataframe\">\n",
       "  <thead>\n",
       "    <tr style=\"text-align: right;\">\n",
       "      <th></th>\n",
       "      <th>0</th>\n",
       "      <th>1</th>\n",
       "      <th>2</th>\n",
       "      <th>3</th>\n",
       "      <th>4</th>\n",
       "      <th>5</th>\n",
       "      <th>6</th>\n",
       "      <th>7</th>\n",
       "      <th>8</th>\n",
       "      <th>9</th>\n",
       "      <th>10</th>\n",
       "      <th>11</th>\n",
       "      <th>12</th>\n",
       "      <th>13</th>\n",
       "      <th>14</th>\n",
       "      <th>15</th>\n",
       "      <th>16</th>\n",
       "      <th>17</th>\n",
       "      <th>18</th>\n",
       "      <th>19</th>\n",
       "    </tr>\n",
       "  </thead>\n",
       "  <tbody>\n",
       "    <tr>\n",
       "      <th>0</th>\n",
       "      <td>1.0</td>\n",
       "      <td>0.0</td>\n",
       "      <td>0.0</td>\n",
       "      <td>0.0</td>\n",
       "      <td>0.0</td>\n",
       "      <td>0.0</td>\n",
       "      <td>1.0</td>\n",
       "      <td>0.0</td>\n",
       "      <td>0.0</td>\n",
       "      <td>0.0</td>\n",
       "      <td>0.0</td>\n",
       "      <td>0.0</td>\n",
       "      <td>0.0</td>\n",
       "      <td>0.0</td>\n",
       "      <td>0.0</td>\n",
       "      <td>0.0</td>\n",
       "      <td>0.0</td>\n",
       "      <td>0.0</td>\n",
       "      <td>0.0</td>\n",
       "      <td>1.0</td>\n",
       "    </tr>\n",
       "    <tr>\n",
       "      <th>1</th>\n",
       "      <td>0.0</td>\n",
       "      <td>1.0</td>\n",
       "      <td>0.0</td>\n",
       "      <td>0.0</td>\n",
       "      <td>0.0</td>\n",
       "      <td>0.0</td>\n",
       "      <td>0.0</td>\n",
       "      <td>0.0</td>\n",
       "      <td>0.0</td>\n",
       "      <td>0.0</td>\n",
       "      <td>0.0</td>\n",
       "      <td>0.0</td>\n",
       "      <td>0.0</td>\n",
       "      <td>0.0</td>\n",
       "      <td>0.0</td>\n",
       "      <td>0.0</td>\n",
       "      <td>0.0</td>\n",
       "      <td>0.0</td>\n",
       "      <td>0.0</td>\n",
       "      <td>1.0</td>\n",
       "    </tr>\n",
       "    <tr>\n",
       "      <th>2</th>\n",
       "      <td>1.0</td>\n",
       "      <td>0.0</td>\n",
       "      <td>0.0</td>\n",
       "      <td>0.0</td>\n",
       "      <td>0.0</td>\n",
       "      <td>0.0</td>\n",
       "      <td>0.0</td>\n",
       "      <td>0.0</td>\n",
       "      <td>0.0</td>\n",
       "      <td>0.0</td>\n",
       "      <td>1.0</td>\n",
       "      <td>0.0</td>\n",
       "      <td>0.0</td>\n",
       "      <td>0.0</td>\n",
       "      <td>0.0</td>\n",
       "      <td>0.0</td>\n",
       "      <td>0.0</td>\n",
       "      <td>0.0</td>\n",
       "      <td>0.0</td>\n",
       "      <td>0.0</td>\n",
       "    </tr>\n",
       "    <tr>\n",
       "      <th>3</th>\n",
       "      <td>0.0</td>\n",
       "      <td>0.0</td>\n",
       "      <td>1.0</td>\n",
       "      <td>0.0</td>\n",
       "      <td>0.0</td>\n",
       "      <td>0.0</td>\n",
       "      <td>0.0</td>\n",
       "      <td>0.0</td>\n",
       "      <td>0.0</td>\n",
       "      <td>0.0</td>\n",
       "      <td>0.0</td>\n",
       "      <td>0.0</td>\n",
       "      <td>0.0</td>\n",
       "      <td>0.0</td>\n",
       "      <td>1.0</td>\n",
       "      <td>0.0</td>\n",
       "      <td>0.0</td>\n",
       "      <td>0.0</td>\n",
       "      <td>1.0</td>\n",
       "      <td>0.0</td>\n",
       "    </tr>\n",
       "    <tr>\n",
       "      <th>4</th>\n",
       "      <td>0.0</td>\n",
       "      <td>0.0</td>\n",
       "      <td>0.0</td>\n",
       "      <td>1.0</td>\n",
       "      <td>0.0</td>\n",
       "      <td>0.0</td>\n",
       "      <td>0.0</td>\n",
       "      <td>0.0</td>\n",
       "      <td>0.0</td>\n",
       "      <td>0.0</td>\n",
       "      <td>0.0</td>\n",
       "      <td>0.0</td>\n",
       "      <td>1.0</td>\n",
       "      <td>0.0</td>\n",
       "      <td>0.0</td>\n",
       "      <td>0.0</td>\n",
       "      <td>0.0</td>\n",
       "      <td>0.0</td>\n",
       "      <td>0.0</td>\n",
       "      <td>1.0</td>\n",
       "    </tr>\n",
       "    <tr>\n",
       "      <th>...</th>\n",
       "      <td>...</td>\n",
       "      <td>...</td>\n",
       "      <td>...</td>\n",
       "      <td>...</td>\n",
       "      <td>...</td>\n",
       "      <td>...</td>\n",
       "      <td>...</td>\n",
       "      <td>...</td>\n",
       "      <td>...</td>\n",
       "      <td>...</td>\n",
       "      <td>...</td>\n",
       "      <td>...</td>\n",
       "      <td>...</td>\n",
       "      <td>...</td>\n",
       "      <td>...</td>\n",
       "      <td>...</td>\n",
       "      <td>...</td>\n",
       "      <td>...</td>\n",
       "      <td>...</td>\n",
       "      <td>...</td>\n",
       "    </tr>\n",
       "    <tr>\n",
       "      <th>49995</th>\n",
       "      <td>0.0</td>\n",
       "      <td>0.0</td>\n",
       "      <td>0.0</td>\n",
       "      <td>0.0</td>\n",
       "      <td>0.0</td>\n",
       "      <td>0.0</td>\n",
       "      <td>0.0</td>\n",
       "      <td>0.0</td>\n",
       "      <td>0.0</td>\n",
       "      <td>1.0</td>\n",
       "      <td>0.0</td>\n",
       "      <td>0.0</td>\n",
       "      <td>0.0</td>\n",
       "      <td>0.0</td>\n",
       "      <td>0.0</td>\n",
       "      <td>0.0</td>\n",
       "      <td>0.0</td>\n",
       "      <td>0.0</td>\n",
       "      <td>0.0</td>\n",
       "      <td>1.0</td>\n",
       "    </tr>\n",
       "    <tr>\n",
       "      <th>49996</th>\n",
       "      <td>0.0</td>\n",
       "      <td>0.0</td>\n",
       "      <td>1.0</td>\n",
       "      <td>0.0</td>\n",
       "      <td>0.0</td>\n",
       "      <td>0.0</td>\n",
       "      <td>0.0</td>\n",
       "      <td>0.0</td>\n",
       "      <td>0.0</td>\n",
       "      <td>0.0</td>\n",
       "      <td>0.0</td>\n",
       "      <td>0.0</td>\n",
       "      <td>0.0</td>\n",
       "      <td>1.0</td>\n",
       "      <td>0.0</td>\n",
       "      <td>0.0</td>\n",
       "      <td>0.0</td>\n",
       "      <td>0.0</td>\n",
       "      <td>1.0</td>\n",
       "      <td>0.0</td>\n",
       "    </tr>\n",
       "    <tr>\n",
       "      <th>49997</th>\n",
       "      <td>1.0</td>\n",
       "      <td>0.0</td>\n",
       "      <td>0.0</td>\n",
       "      <td>0.0</td>\n",
       "      <td>0.0</td>\n",
       "      <td>0.0</td>\n",
       "      <td>0.0</td>\n",
       "      <td>0.0</td>\n",
       "      <td>0.0</td>\n",
       "      <td>0.0</td>\n",
       "      <td>1.0</td>\n",
       "      <td>0.0</td>\n",
       "      <td>0.0</td>\n",
       "      <td>0.0</td>\n",
       "      <td>0.0</td>\n",
       "      <td>0.0</td>\n",
       "      <td>0.0</td>\n",
       "      <td>0.0</td>\n",
       "      <td>0.0</td>\n",
       "      <td>0.0</td>\n",
       "    </tr>\n",
       "    <tr>\n",
       "      <th>49998</th>\n",
       "      <td>1.0</td>\n",
       "      <td>0.0</td>\n",
       "      <td>0.0</td>\n",
       "      <td>0.0</td>\n",
       "      <td>0.0</td>\n",
       "      <td>0.0</td>\n",
       "      <td>0.0</td>\n",
       "      <td>1.0</td>\n",
       "      <td>0.0</td>\n",
       "      <td>0.0</td>\n",
       "      <td>0.0</td>\n",
       "      <td>0.0</td>\n",
       "      <td>0.0</td>\n",
       "      <td>0.0</td>\n",
       "      <td>0.0</td>\n",
       "      <td>0.0</td>\n",
       "      <td>0.0</td>\n",
       "      <td>0.0</td>\n",
       "      <td>0.0</td>\n",
       "      <td>0.0</td>\n",
       "    </tr>\n",
       "    <tr>\n",
       "      <th>49999</th>\n",
       "      <td>0.0</td>\n",
       "      <td>0.0</td>\n",
       "      <td>0.0</td>\n",
       "      <td>1.0</td>\n",
       "      <td>0.0</td>\n",
       "      <td>0.0</td>\n",
       "      <td>0.0</td>\n",
       "      <td>0.0</td>\n",
       "      <td>1.0</td>\n",
       "      <td>0.0</td>\n",
       "      <td>0.0</td>\n",
       "      <td>0.0</td>\n",
       "      <td>0.0</td>\n",
       "      <td>0.0</td>\n",
       "      <td>0.0</td>\n",
       "      <td>0.0</td>\n",
       "      <td>0.0</td>\n",
       "      <td>0.0</td>\n",
       "      <td>0.0</td>\n",
       "      <td>0.0</td>\n",
       "    </tr>\n",
       "  </tbody>\n",
       "</table>\n",
       "<p>50000 rows × 20 columns</p>\n",
       "</div>"
      ],
      "text/plain": [
       "        0    1    2    3    4    5    6    7    8    9    10   11   12   13  \\\n",
       "0      1.0  0.0  0.0  0.0  0.0  0.0  1.0  0.0  0.0  0.0  0.0  0.0  0.0  0.0   \n",
       "1      0.0  1.0  0.0  0.0  0.0  0.0  0.0  0.0  0.0  0.0  0.0  0.0  0.0  0.0   \n",
       "2      1.0  0.0  0.0  0.0  0.0  0.0  0.0  0.0  0.0  0.0  1.0  0.0  0.0  0.0   \n",
       "3      0.0  0.0  1.0  0.0  0.0  0.0  0.0  0.0  0.0  0.0  0.0  0.0  0.0  0.0   \n",
       "4      0.0  0.0  0.0  1.0  0.0  0.0  0.0  0.0  0.0  0.0  0.0  0.0  1.0  0.0   \n",
       "...    ...  ...  ...  ...  ...  ...  ...  ...  ...  ...  ...  ...  ...  ...   \n",
       "49995  0.0  0.0  0.0  0.0  0.0  0.0  0.0  0.0  0.0  1.0  0.0  0.0  0.0  0.0   \n",
       "49996  0.0  0.0  1.0  0.0  0.0  0.0  0.0  0.0  0.0  0.0  0.0  0.0  0.0  1.0   \n",
       "49997  1.0  0.0  0.0  0.0  0.0  0.0  0.0  0.0  0.0  0.0  1.0  0.0  0.0  0.0   \n",
       "49998  1.0  0.0  0.0  0.0  0.0  0.0  0.0  1.0  0.0  0.0  0.0  0.0  0.0  0.0   \n",
       "49999  0.0  0.0  0.0  1.0  0.0  0.0  0.0  0.0  1.0  0.0  0.0  0.0  0.0  0.0   \n",
       "\n",
       "        14   15   16   17   18   19  \n",
       "0      0.0  0.0  0.0  0.0  0.0  1.0  \n",
       "1      0.0  0.0  0.0  0.0  0.0  1.0  \n",
       "2      0.0  0.0  0.0  0.0  0.0  0.0  \n",
       "3      1.0  0.0  0.0  0.0  1.0  0.0  \n",
       "4      0.0  0.0  0.0  0.0  0.0  1.0  \n",
       "...    ...  ...  ...  ...  ...  ...  \n",
       "49995  0.0  0.0  0.0  0.0  0.0  1.0  \n",
       "49996  0.0  0.0  0.0  0.0  1.0  0.0  \n",
       "49997  0.0  0.0  0.0  0.0  0.0  0.0  \n",
       "49998  0.0  0.0  0.0  0.0  0.0  0.0  \n",
       "49999  0.0  0.0  0.0  0.0  0.0  0.0  \n",
       "\n",
       "[50000 rows x 20 columns]"
      ]
     },
     "execution_count": 94,
     "metadata": {},
     "output_type": "execute_result"
    }
   ],
   "source": [
    "X_encoded"
   ]
  },
  {
   "cell_type": "markdown",
   "id": "f78ab90f",
   "metadata": {},
   "source": [
    "### 4.3.4 Concatenate the encoded features with the original dataset\n"
   ]
  },
  {
   "cell_type": "code",
   "execution_count": 95,
   "id": "bbbad03b",
   "metadata": {},
   "outputs": [
    {
     "data": {
      "text/html": [
       "<div>\n",
       "<style scoped>\n",
       "    .dataframe tbody tr th:only-of-type {\n",
       "        vertical-align: middle;\n",
       "    }\n",
       "\n",
       "    .dataframe tbody tr th {\n",
       "        vertical-align: top;\n",
       "    }\n",
       "\n",
       "    .dataframe thead th {\n",
       "        text-align: right;\n",
       "    }\n",
       "</style>\n",
       "<table border=\"1\" class=\"dataframe\">\n",
       "  <thead>\n",
       "    <tr style=\"text-align: right;\">\n",
       "      <th></th>\n",
       "      <th>Manufacturer</th>\n",
       "      <th>Model</th>\n",
       "      <th>Engine size</th>\n",
       "      <th>Fuel type</th>\n",
       "      <th>Year of manufacture</th>\n",
       "      <th>Mileage</th>\n",
       "      <th>0</th>\n",
       "      <th>1</th>\n",
       "      <th>2</th>\n",
       "      <th>3</th>\n",
       "      <th>...</th>\n",
       "      <th>10</th>\n",
       "      <th>11</th>\n",
       "      <th>12</th>\n",
       "      <th>13</th>\n",
       "      <th>14</th>\n",
       "      <th>15</th>\n",
       "      <th>16</th>\n",
       "      <th>17</th>\n",
       "      <th>18</th>\n",
       "      <th>19</th>\n",
       "    </tr>\n",
       "  </thead>\n",
       "  <tbody>\n",
       "    <tr>\n",
       "      <th>0</th>\n",
       "      <td>Ford</td>\n",
       "      <td>Fiesta</td>\n",
       "      <td>1.0</td>\n",
       "      <td>Petrol</td>\n",
       "      <td>2002</td>\n",
       "      <td>127300</td>\n",
       "      <td>1.0</td>\n",
       "      <td>0.0</td>\n",
       "      <td>0.0</td>\n",
       "      <td>0.0</td>\n",
       "      <td>...</td>\n",
       "      <td>0.0</td>\n",
       "      <td>0.0</td>\n",
       "      <td>0.0</td>\n",
       "      <td>0.0</td>\n",
       "      <td>0.0</td>\n",
       "      <td>0.0</td>\n",
       "      <td>0.0</td>\n",
       "      <td>0.0</td>\n",
       "      <td>0.0</td>\n",
       "      <td>1.0</td>\n",
       "    </tr>\n",
       "    <tr>\n",
       "      <th>1</th>\n",
       "      <td>Porsche</td>\n",
       "      <td>718 Cayman</td>\n",
       "      <td>4.0</td>\n",
       "      <td>Petrol</td>\n",
       "      <td>2016</td>\n",
       "      <td>57850</td>\n",
       "      <td>0.0</td>\n",
       "      <td>1.0</td>\n",
       "      <td>0.0</td>\n",
       "      <td>0.0</td>\n",
       "      <td>...</td>\n",
       "      <td>0.0</td>\n",
       "      <td>0.0</td>\n",
       "      <td>0.0</td>\n",
       "      <td>0.0</td>\n",
       "      <td>0.0</td>\n",
       "      <td>0.0</td>\n",
       "      <td>0.0</td>\n",
       "      <td>0.0</td>\n",
       "      <td>0.0</td>\n",
       "      <td>1.0</td>\n",
       "    </tr>\n",
       "    <tr>\n",
       "      <th>2</th>\n",
       "      <td>Ford</td>\n",
       "      <td>Mondeo</td>\n",
       "      <td>1.6</td>\n",
       "      <td>Diesel</td>\n",
       "      <td>2014</td>\n",
       "      <td>39190</td>\n",
       "      <td>1.0</td>\n",
       "      <td>0.0</td>\n",
       "      <td>0.0</td>\n",
       "      <td>0.0</td>\n",
       "      <td>...</td>\n",
       "      <td>1.0</td>\n",
       "      <td>0.0</td>\n",
       "      <td>0.0</td>\n",
       "      <td>0.0</td>\n",
       "      <td>0.0</td>\n",
       "      <td>0.0</td>\n",
       "      <td>0.0</td>\n",
       "      <td>0.0</td>\n",
       "      <td>0.0</td>\n",
       "      <td>0.0</td>\n",
       "    </tr>\n",
       "    <tr>\n",
       "      <th>3</th>\n",
       "      <td>Toyota</td>\n",
       "      <td>RAV4</td>\n",
       "      <td>1.8</td>\n",
       "      <td>Hybrid</td>\n",
       "      <td>1988</td>\n",
       "      <td>210814</td>\n",
       "      <td>0.0</td>\n",
       "      <td>0.0</td>\n",
       "      <td>1.0</td>\n",
       "      <td>0.0</td>\n",
       "      <td>...</td>\n",
       "      <td>0.0</td>\n",
       "      <td>0.0</td>\n",
       "      <td>0.0</td>\n",
       "      <td>0.0</td>\n",
       "      <td>1.0</td>\n",
       "      <td>0.0</td>\n",
       "      <td>0.0</td>\n",
       "      <td>0.0</td>\n",
       "      <td>1.0</td>\n",
       "      <td>0.0</td>\n",
       "    </tr>\n",
       "    <tr>\n",
       "      <th>4</th>\n",
       "      <td>VW</td>\n",
       "      <td>Polo</td>\n",
       "      <td>1.0</td>\n",
       "      <td>Petrol</td>\n",
       "      <td>2006</td>\n",
       "      <td>127869</td>\n",
       "      <td>0.0</td>\n",
       "      <td>0.0</td>\n",
       "      <td>0.0</td>\n",
       "      <td>1.0</td>\n",
       "      <td>...</td>\n",
       "      <td>0.0</td>\n",
       "      <td>0.0</td>\n",
       "      <td>1.0</td>\n",
       "      <td>0.0</td>\n",
       "      <td>0.0</td>\n",
       "      <td>0.0</td>\n",
       "      <td>0.0</td>\n",
       "      <td>0.0</td>\n",
       "      <td>0.0</td>\n",
       "      <td>1.0</td>\n",
       "    </tr>\n",
       "    <tr>\n",
       "      <th>...</th>\n",
       "      <td>...</td>\n",
       "      <td>...</td>\n",
       "      <td>...</td>\n",
       "      <td>...</td>\n",
       "      <td>...</td>\n",
       "      <td>...</td>\n",
       "      <td>...</td>\n",
       "      <td>...</td>\n",
       "      <td>...</td>\n",
       "      <td>...</td>\n",
       "      <td>...</td>\n",
       "      <td>...</td>\n",
       "      <td>...</td>\n",
       "      <td>...</td>\n",
       "      <td>...</td>\n",
       "      <td>...</td>\n",
       "      <td>...</td>\n",
       "      <td>...</td>\n",
       "      <td>...</td>\n",
       "      <td>...</td>\n",
       "      <td>...</td>\n",
       "    </tr>\n",
       "    <tr>\n",
       "      <th>49995</th>\n",
       "      <td>BMW</td>\n",
       "      <td>M5</td>\n",
       "      <td>5.0</td>\n",
       "      <td>Petrol</td>\n",
       "      <td>2018</td>\n",
       "      <td>28664</td>\n",
       "      <td>0.0</td>\n",
       "      <td>0.0</td>\n",
       "      <td>0.0</td>\n",
       "      <td>0.0</td>\n",
       "      <td>...</td>\n",
       "      <td>0.0</td>\n",
       "      <td>0.0</td>\n",
       "      <td>0.0</td>\n",
       "      <td>0.0</td>\n",
       "      <td>0.0</td>\n",
       "      <td>0.0</td>\n",
       "      <td>0.0</td>\n",
       "      <td>0.0</td>\n",
       "      <td>0.0</td>\n",
       "      <td>1.0</td>\n",
       "    </tr>\n",
       "    <tr>\n",
       "      <th>49996</th>\n",
       "      <td>Toyota</td>\n",
       "      <td>Prius</td>\n",
       "      <td>1.8</td>\n",
       "      <td>Hybrid</td>\n",
       "      <td>2003</td>\n",
       "      <td>105120</td>\n",
       "      <td>0.0</td>\n",
       "      <td>0.0</td>\n",
       "      <td>1.0</td>\n",
       "      <td>0.0</td>\n",
       "      <td>...</td>\n",
       "      <td>0.0</td>\n",
       "      <td>0.0</td>\n",
       "      <td>0.0</td>\n",
       "      <td>1.0</td>\n",
       "      <td>0.0</td>\n",
       "      <td>0.0</td>\n",
       "      <td>0.0</td>\n",
       "      <td>0.0</td>\n",
       "      <td>1.0</td>\n",
       "      <td>0.0</td>\n",
       "    </tr>\n",
       "    <tr>\n",
       "      <th>49997</th>\n",
       "      <td>Ford</td>\n",
       "      <td>Mondeo</td>\n",
       "      <td>1.6</td>\n",
       "      <td>Diesel</td>\n",
       "      <td>2022</td>\n",
       "      <td>4030</td>\n",
       "      <td>1.0</td>\n",
       "      <td>0.0</td>\n",
       "      <td>0.0</td>\n",
       "      <td>0.0</td>\n",
       "      <td>...</td>\n",
       "      <td>1.0</td>\n",
       "      <td>0.0</td>\n",
       "      <td>0.0</td>\n",
       "      <td>0.0</td>\n",
       "      <td>0.0</td>\n",
       "      <td>0.0</td>\n",
       "      <td>0.0</td>\n",
       "      <td>0.0</td>\n",
       "      <td>0.0</td>\n",
       "      <td>0.0</td>\n",
       "    </tr>\n",
       "    <tr>\n",
       "      <th>49998</th>\n",
       "      <td>Ford</td>\n",
       "      <td>Focus</td>\n",
       "      <td>1.0</td>\n",
       "      <td>Diesel</td>\n",
       "      <td>2016</td>\n",
       "      <td>26468</td>\n",
       "      <td>1.0</td>\n",
       "      <td>0.0</td>\n",
       "      <td>0.0</td>\n",
       "      <td>0.0</td>\n",
       "      <td>...</td>\n",
       "      <td>0.0</td>\n",
       "      <td>0.0</td>\n",
       "      <td>0.0</td>\n",
       "      <td>0.0</td>\n",
       "      <td>0.0</td>\n",
       "      <td>0.0</td>\n",
       "      <td>0.0</td>\n",
       "      <td>0.0</td>\n",
       "      <td>0.0</td>\n",
       "      <td>0.0</td>\n",
       "    </tr>\n",
       "    <tr>\n",
       "      <th>49999</th>\n",
       "      <td>VW</td>\n",
       "      <td>Golf</td>\n",
       "      <td>1.4</td>\n",
       "      <td>Diesel</td>\n",
       "      <td>2012</td>\n",
       "      <td>109300</td>\n",
       "      <td>0.0</td>\n",
       "      <td>0.0</td>\n",
       "      <td>0.0</td>\n",
       "      <td>1.0</td>\n",
       "      <td>...</td>\n",
       "      <td>0.0</td>\n",
       "      <td>0.0</td>\n",
       "      <td>0.0</td>\n",
       "      <td>0.0</td>\n",
       "      <td>0.0</td>\n",
       "      <td>0.0</td>\n",
       "      <td>0.0</td>\n",
       "      <td>0.0</td>\n",
       "      <td>0.0</td>\n",
       "      <td>0.0</td>\n",
       "    </tr>\n",
       "  </tbody>\n",
       "</table>\n",
       "<p>50000 rows × 26 columns</p>\n",
       "</div>"
      ],
      "text/plain": [
       "      Manufacturer       Model  Engine size Fuel type  Year of manufacture  \\\n",
       "0             Ford      Fiesta          1.0    Petrol                 2002   \n",
       "1          Porsche  718 Cayman          4.0    Petrol                 2016   \n",
       "2             Ford      Mondeo          1.6    Diesel                 2014   \n",
       "3           Toyota        RAV4          1.8    Hybrid                 1988   \n",
       "4               VW        Polo          1.0    Petrol                 2006   \n",
       "...            ...         ...          ...       ...                  ...   \n",
       "49995          BMW          M5          5.0    Petrol                 2018   \n",
       "49996       Toyota       Prius          1.8    Hybrid                 2003   \n",
       "49997         Ford      Mondeo          1.6    Diesel                 2022   \n",
       "49998         Ford       Focus          1.0    Diesel                 2016   \n",
       "49999           VW        Golf          1.4    Diesel                 2012   \n",
       "\n",
       "       Mileage    0    1    2    3  ...   10   11   12   13   14   15   16  \\\n",
       "0       127300  1.0  0.0  0.0  0.0  ...  0.0  0.0  0.0  0.0  0.0  0.0  0.0   \n",
       "1        57850  0.0  1.0  0.0  0.0  ...  0.0  0.0  0.0  0.0  0.0  0.0  0.0   \n",
       "2        39190  1.0  0.0  0.0  0.0  ...  1.0  0.0  0.0  0.0  0.0  0.0  0.0   \n",
       "3       210814  0.0  0.0  1.0  0.0  ...  0.0  0.0  0.0  0.0  1.0  0.0  0.0   \n",
       "4       127869  0.0  0.0  0.0  1.0  ...  0.0  0.0  1.0  0.0  0.0  0.0  0.0   \n",
       "...        ...  ...  ...  ...  ...  ...  ...  ...  ...  ...  ...  ...  ...   \n",
       "49995    28664  0.0  0.0  0.0  0.0  ...  0.0  0.0  0.0  0.0  0.0  0.0  0.0   \n",
       "49996   105120  0.0  0.0  1.0  0.0  ...  0.0  0.0  0.0  1.0  0.0  0.0  0.0   \n",
       "49997     4030  1.0  0.0  0.0  0.0  ...  1.0  0.0  0.0  0.0  0.0  0.0  0.0   \n",
       "49998    26468  1.0  0.0  0.0  0.0  ...  0.0  0.0  0.0  0.0  0.0  0.0  0.0   \n",
       "49999   109300  0.0  0.0  0.0  1.0  ...  0.0  0.0  0.0  0.0  0.0  0.0  0.0   \n",
       "\n",
       "        17   18   19  \n",
       "0      0.0  0.0  1.0  \n",
       "1      0.0  0.0  1.0  \n",
       "2      0.0  0.0  0.0  \n",
       "3      0.0  1.0  0.0  \n",
       "4      0.0  0.0  1.0  \n",
       "...    ...  ...  ...  \n",
       "49995  0.0  0.0  1.0  \n",
       "49996  0.0  1.0  0.0  \n",
       "49997  0.0  0.0  0.0  \n",
       "49998  0.0  0.0  0.0  \n",
       "49999  0.0  0.0  0.0  \n",
       "\n",
       "[50000 rows x 26 columns]"
      ]
     },
     "execution_count": 95,
     "metadata": {},
     "output_type": "execute_result"
    }
   ],
   "source": [
    "# Concatenate the encoded features with the original dataset\n",
    "X = pd.concat([X, X_encoded], axis=1)\n",
    "\n",
    "X"
   ]
  },
  {
   "cell_type": "markdown",
   "id": "a4df4d30",
   "metadata": {},
   "source": [
    "### 4.3.5 drop the orinial column of categorical variable\n"
   ]
  },
  {
   "cell_type": "code",
   "execution_count": 96,
   "id": "99cb1ce7",
   "metadata": {},
   "outputs": [],
   "source": [
    "# drop the orinial column of categorical variable\n",
    "X = X.drop(['Manufacturer', 'Model', 'Fuel type'], axis = 1)"
   ]
  },
  {
   "cell_type": "code",
   "execution_count": 97,
   "id": "3de83411",
   "metadata": {},
   "outputs": [
    {
     "data": {
      "text/html": [
       "<div>\n",
       "<style scoped>\n",
       "    .dataframe tbody tr th:only-of-type {\n",
       "        vertical-align: middle;\n",
       "    }\n",
       "\n",
       "    .dataframe tbody tr th {\n",
       "        vertical-align: top;\n",
       "    }\n",
       "\n",
       "    .dataframe thead th {\n",
       "        text-align: right;\n",
       "    }\n",
       "</style>\n",
       "<table border=\"1\" class=\"dataframe\">\n",
       "  <thead>\n",
       "    <tr style=\"text-align: right;\">\n",
       "      <th></th>\n",
       "      <th>Engine size</th>\n",
       "      <th>Year of manufacture</th>\n",
       "      <th>Mileage</th>\n",
       "      <th>0</th>\n",
       "      <th>1</th>\n",
       "      <th>2</th>\n",
       "      <th>3</th>\n",
       "      <th>4</th>\n",
       "      <th>5</th>\n",
       "      <th>6</th>\n",
       "      <th>...</th>\n",
       "      <th>10</th>\n",
       "      <th>11</th>\n",
       "      <th>12</th>\n",
       "      <th>13</th>\n",
       "      <th>14</th>\n",
       "      <th>15</th>\n",
       "      <th>16</th>\n",
       "      <th>17</th>\n",
       "      <th>18</th>\n",
       "      <th>19</th>\n",
       "    </tr>\n",
       "  </thead>\n",
       "  <tbody>\n",
       "    <tr>\n",
       "      <th>0</th>\n",
       "      <td>1.0</td>\n",
       "      <td>2002</td>\n",
       "      <td>127300</td>\n",
       "      <td>1.0</td>\n",
       "      <td>0.0</td>\n",
       "      <td>0.0</td>\n",
       "      <td>0.0</td>\n",
       "      <td>0.0</td>\n",
       "      <td>0.0</td>\n",
       "      <td>1.0</td>\n",
       "      <td>...</td>\n",
       "      <td>0.0</td>\n",
       "      <td>0.0</td>\n",
       "      <td>0.0</td>\n",
       "      <td>0.0</td>\n",
       "      <td>0.0</td>\n",
       "      <td>0.0</td>\n",
       "      <td>0.0</td>\n",
       "      <td>0.0</td>\n",
       "      <td>0.0</td>\n",
       "      <td>1.0</td>\n",
       "    </tr>\n",
       "    <tr>\n",
       "      <th>1</th>\n",
       "      <td>4.0</td>\n",
       "      <td>2016</td>\n",
       "      <td>57850</td>\n",
       "      <td>0.0</td>\n",
       "      <td>1.0</td>\n",
       "      <td>0.0</td>\n",
       "      <td>0.0</td>\n",
       "      <td>0.0</td>\n",
       "      <td>0.0</td>\n",
       "      <td>0.0</td>\n",
       "      <td>...</td>\n",
       "      <td>0.0</td>\n",
       "      <td>0.0</td>\n",
       "      <td>0.0</td>\n",
       "      <td>0.0</td>\n",
       "      <td>0.0</td>\n",
       "      <td>0.0</td>\n",
       "      <td>0.0</td>\n",
       "      <td>0.0</td>\n",
       "      <td>0.0</td>\n",
       "      <td>1.0</td>\n",
       "    </tr>\n",
       "    <tr>\n",
       "      <th>2</th>\n",
       "      <td>1.6</td>\n",
       "      <td>2014</td>\n",
       "      <td>39190</td>\n",
       "      <td>1.0</td>\n",
       "      <td>0.0</td>\n",
       "      <td>0.0</td>\n",
       "      <td>0.0</td>\n",
       "      <td>0.0</td>\n",
       "      <td>0.0</td>\n",
       "      <td>0.0</td>\n",
       "      <td>...</td>\n",
       "      <td>1.0</td>\n",
       "      <td>0.0</td>\n",
       "      <td>0.0</td>\n",
       "      <td>0.0</td>\n",
       "      <td>0.0</td>\n",
       "      <td>0.0</td>\n",
       "      <td>0.0</td>\n",
       "      <td>0.0</td>\n",
       "      <td>0.0</td>\n",
       "      <td>0.0</td>\n",
       "    </tr>\n",
       "    <tr>\n",
       "      <th>3</th>\n",
       "      <td>1.8</td>\n",
       "      <td>1988</td>\n",
       "      <td>210814</td>\n",
       "      <td>0.0</td>\n",
       "      <td>0.0</td>\n",
       "      <td>1.0</td>\n",
       "      <td>0.0</td>\n",
       "      <td>0.0</td>\n",
       "      <td>0.0</td>\n",
       "      <td>0.0</td>\n",
       "      <td>...</td>\n",
       "      <td>0.0</td>\n",
       "      <td>0.0</td>\n",
       "      <td>0.0</td>\n",
       "      <td>0.0</td>\n",
       "      <td>1.0</td>\n",
       "      <td>0.0</td>\n",
       "      <td>0.0</td>\n",
       "      <td>0.0</td>\n",
       "      <td>1.0</td>\n",
       "      <td>0.0</td>\n",
       "    </tr>\n",
       "    <tr>\n",
       "      <th>4</th>\n",
       "      <td>1.0</td>\n",
       "      <td>2006</td>\n",
       "      <td>127869</td>\n",
       "      <td>0.0</td>\n",
       "      <td>0.0</td>\n",
       "      <td>0.0</td>\n",
       "      <td>1.0</td>\n",
       "      <td>0.0</td>\n",
       "      <td>0.0</td>\n",
       "      <td>0.0</td>\n",
       "      <td>...</td>\n",
       "      <td>0.0</td>\n",
       "      <td>0.0</td>\n",
       "      <td>1.0</td>\n",
       "      <td>0.0</td>\n",
       "      <td>0.0</td>\n",
       "      <td>0.0</td>\n",
       "      <td>0.0</td>\n",
       "      <td>0.0</td>\n",
       "      <td>0.0</td>\n",
       "      <td>1.0</td>\n",
       "    </tr>\n",
       "    <tr>\n",
       "      <th>...</th>\n",
       "      <td>...</td>\n",
       "      <td>...</td>\n",
       "      <td>...</td>\n",
       "      <td>...</td>\n",
       "      <td>...</td>\n",
       "      <td>...</td>\n",
       "      <td>...</td>\n",
       "      <td>...</td>\n",
       "      <td>...</td>\n",
       "      <td>...</td>\n",
       "      <td>...</td>\n",
       "      <td>...</td>\n",
       "      <td>...</td>\n",
       "      <td>...</td>\n",
       "      <td>...</td>\n",
       "      <td>...</td>\n",
       "      <td>...</td>\n",
       "      <td>...</td>\n",
       "      <td>...</td>\n",
       "      <td>...</td>\n",
       "      <td>...</td>\n",
       "    </tr>\n",
       "    <tr>\n",
       "      <th>49995</th>\n",
       "      <td>5.0</td>\n",
       "      <td>2018</td>\n",
       "      <td>28664</td>\n",
       "      <td>0.0</td>\n",
       "      <td>0.0</td>\n",
       "      <td>0.0</td>\n",
       "      <td>0.0</td>\n",
       "      <td>0.0</td>\n",
       "      <td>0.0</td>\n",
       "      <td>0.0</td>\n",
       "      <td>...</td>\n",
       "      <td>0.0</td>\n",
       "      <td>0.0</td>\n",
       "      <td>0.0</td>\n",
       "      <td>0.0</td>\n",
       "      <td>0.0</td>\n",
       "      <td>0.0</td>\n",
       "      <td>0.0</td>\n",
       "      <td>0.0</td>\n",
       "      <td>0.0</td>\n",
       "      <td>1.0</td>\n",
       "    </tr>\n",
       "    <tr>\n",
       "      <th>49996</th>\n",
       "      <td>1.8</td>\n",
       "      <td>2003</td>\n",
       "      <td>105120</td>\n",
       "      <td>0.0</td>\n",
       "      <td>0.0</td>\n",
       "      <td>1.0</td>\n",
       "      <td>0.0</td>\n",
       "      <td>0.0</td>\n",
       "      <td>0.0</td>\n",
       "      <td>0.0</td>\n",
       "      <td>...</td>\n",
       "      <td>0.0</td>\n",
       "      <td>0.0</td>\n",
       "      <td>0.0</td>\n",
       "      <td>1.0</td>\n",
       "      <td>0.0</td>\n",
       "      <td>0.0</td>\n",
       "      <td>0.0</td>\n",
       "      <td>0.0</td>\n",
       "      <td>1.0</td>\n",
       "      <td>0.0</td>\n",
       "    </tr>\n",
       "    <tr>\n",
       "      <th>49997</th>\n",
       "      <td>1.6</td>\n",
       "      <td>2022</td>\n",
       "      <td>4030</td>\n",
       "      <td>1.0</td>\n",
       "      <td>0.0</td>\n",
       "      <td>0.0</td>\n",
       "      <td>0.0</td>\n",
       "      <td>0.0</td>\n",
       "      <td>0.0</td>\n",
       "      <td>0.0</td>\n",
       "      <td>...</td>\n",
       "      <td>1.0</td>\n",
       "      <td>0.0</td>\n",
       "      <td>0.0</td>\n",
       "      <td>0.0</td>\n",
       "      <td>0.0</td>\n",
       "      <td>0.0</td>\n",
       "      <td>0.0</td>\n",
       "      <td>0.0</td>\n",
       "      <td>0.0</td>\n",
       "      <td>0.0</td>\n",
       "    </tr>\n",
       "    <tr>\n",
       "      <th>49998</th>\n",
       "      <td>1.0</td>\n",
       "      <td>2016</td>\n",
       "      <td>26468</td>\n",
       "      <td>1.0</td>\n",
       "      <td>0.0</td>\n",
       "      <td>0.0</td>\n",
       "      <td>0.0</td>\n",
       "      <td>0.0</td>\n",
       "      <td>0.0</td>\n",
       "      <td>0.0</td>\n",
       "      <td>...</td>\n",
       "      <td>0.0</td>\n",
       "      <td>0.0</td>\n",
       "      <td>0.0</td>\n",
       "      <td>0.0</td>\n",
       "      <td>0.0</td>\n",
       "      <td>0.0</td>\n",
       "      <td>0.0</td>\n",
       "      <td>0.0</td>\n",
       "      <td>0.0</td>\n",
       "      <td>0.0</td>\n",
       "    </tr>\n",
       "    <tr>\n",
       "      <th>49999</th>\n",
       "      <td>1.4</td>\n",
       "      <td>2012</td>\n",
       "      <td>109300</td>\n",
       "      <td>0.0</td>\n",
       "      <td>0.0</td>\n",
       "      <td>0.0</td>\n",
       "      <td>1.0</td>\n",
       "      <td>0.0</td>\n",
       "      <td>0.0</td>\n",
       "      <td>0.0</td>\n",
       "      <td>...</td>\n",
       "      <td>0.0</td>\n",
       "      <td>0.0</td>\n",
       "      <td>0.0</td>\n",
       "      <td>0.0</td>\n",
       "      <td>0.0</td>\n",
       "      <td>0.0</td>\n",
       "      <td>0.0</td>\n",
       "      <td>0.0</td>\n",
       "      <td>0.0</td>\n",
       "      <td>0.0</td>\n",
       "    </tr>\n",
       "  </tbody>\n",
       "</table>\n",
       "<p>50000 rows × 23 columns</p>\n",
       "</div>"
      ],
      "text/plain": [
       "       Engine size  Year of manufacture  Mileage    0    1    2    3    4  \\\n",
       "0              1.0                 2002   127300  1.0  0.0  0.0  0.0  0.0   \n",
       "1              4.0                 2016    57850  0.0  1.0  0.0  0.0  0.0   \n",
       "2              1.6                 2014    39190  1.0  0.0  0.0  0.0  0.0   \n",
       "3              1.8                 1988   210814  0.0  0.0  1.0  0.0  0.0   \n",
       "4              1.0                 2006   127869  0.0  0.0  0.0  1.0  0.0   \n",
       "...            ...                  ...      ...  ...  ...  ...  ...  ...   \n",
       "49995          5.0                 2018    28664  0.0  0.0  0.0  0.0  0.0   \n",
       "49996          1.8                 2003   105120  0.0  0.0  1.0  0.0  0.0   \n",
       "49997          1.6                 2022     4030  1.0  0.0  0.0  0.0  0.0   \n",
       "49998          1.0                 2016    26468  1.0  0.0  0.0  0.0  0.0   \n",
       "49999          1.4                 2012   109300  0.0  0.0  0.0  1.0  0.0   \n",
       "\n",
       "         5    6  ...   10   11   12   13   14   15   16   17   18   19  \n",
       "0      0.0  1.0  ...  0.0  0.0  0.0  0.0  0.0  0.0  0.0  0.0  0.0  1.0  \n",
       "1      0.0  0.0  ...  0.0  0.0  0.0  0.0  0.0  0.0  0.0  0.0  0.0  1.0  \n",
       "2      0.0  0.0  ...  1.0  0.0  0.0  0.0  0.0  0.0  0.0  0.0  0.0  0.0  \n",
       "3      0.0  0.0  ...  0.0  0.0  0.0  0.0  1.0  0.0  0.0  0.0  1.0  0.0  \n",
       "4      0.0  0.0  ...  0.0  0.0  1.0  0.0  0.0  0.0  0.0  0.0  0.0  1.0  \n",
       "...    ...  ...  ...  ...  ...  ...  ...  ...  ...  ...  ...  ...  ...  \n",
       "49995  0.0  0.0  ...  0.0  0.0  0.0  0.0  0.0  0.0  0.0  0.0  0.0  1.0  \n",
       "49996  0.0  0.0  ...  0.0  0.0  0.0  1.0  0.0  0.0  0.0  0.0  1.0  0.0  \n",
       "49997  0.0  0.0  ...  1.0  0.0  0.0  0.0  0.0  0.0  0.0  0.0  0.0  0.0  \n",
       "49998  0.0  0.0  ...  0.0  0.0  0.0  0.0  0.0  0.0  0.0  0.0  0.0  0.0  \n",
       "49999  0.0  0.0  ...  0.0  0.0  0.0  0.0  0.0  0.0  0.0  0.0  0.0  0.0  \n",
       "\n",
       "[50000 rows x 23 columns]"
      ]
     },
     "execution_count": 97,
     "metadata": {},
     "output_type": "execute_result"
    }
   ],
   "source": [
    "X"
   ]
  },
  {
   "cell_type": "markdown",
   "id": "128387e7",
   "metadata": {},
   "source": [
    "### 4.3.6 convert all features name string"
   ]
  },
  {
   "cell_type": "code",
   "execution_count": 98,
   "id": "bec0cc92",
   "metadata": {},
   "outputs": [],
   "source": [
    "# convert all features name string\n",
    "\n",
    "X.columns = X.columns.astype(str)"
   ]
  },
  {
   "cell_type": "markdown",
   "id": "5dedccdd",
   "metadata": {},
   "source": [
    "### 4.3.6 Split the dataset into training and testing sets\n"
   ]
  },
  {
   "cell_type": "code",
   "execution_count": 99,
   "id": "49cc4163",
   "metadata": {},
   "outputs": [],
   "source": [
    "# Split the dataset into training and testing sets\n",
    "x_train, x_test, y_train, y_test = train_test_split(X, y, test_size=0.2, random_state=42)\n"
   ]
  },
  {
   "cell_type": "code",
   "execution_count": 100,
   "id": "fdf9465b",
   "metadata": {},
   "outputs": [
    {
     "data": {
      "text/plain": [
       "39087     1438\n",
       "30893      448\n",
       "45278    14099\n",
       "16398     8234\n",
       "13653     6721\n",
       "         ...  \n",
       "11284      370\n",
       "44732     8507\n",
       "38158    26206\n",
       "860        902\n",
       "15795     6072\n",
       "Name: Price, Length: 40000, dtype: int64"
      ]
     },
     "execution_count": 100,
     "metadata": {},
     "output_type": "execute_result"
    }
   ],
   "source": [
    "x_train\n",
    "y_train"
   ]
  },
  {
   "cell_type": "markdown",
   "id": "22374704",
   "metadata": {},
   "source": [
    "### 4.3.7 Create a Random Forest Regressor model\n"
   ]
  },
  {
   "cell_type": "code",
   "execution_count": 101,
   "id": "da4c6117",
   "metadata": {},
   "outputs": [],
   "source": [
    "# Create a Random Forest Regressor model\n",
    "rf_model = RandomForestRegressor(n_estimators=100, random_state=42)\n"
   ]
  },
  {
   "cell_type": "markdown",
   "id": "0b3f7381",
   "metadata": {},
   "source": [
    "### 4.3.8 Train the model on the training data\n"
   ]
  },
  {
   "cell_type": "code",
   "execution_count": 102,
   "id": "cb2b5e58",
   "metadata": {},
   "outputs": [
    {
     "data": {
      "text/html": [
       "<style>#sk-container-id-6 {color: black;}#sk-container-id-6 pre{padding: 0;}#sk-container-id-6 div.sk-toggleable {background-color: white;}#sk-container-id-6 label.sk-toggleable__label {cursor: pointer;display: block;width: 100%;margin-bottom: 0;padding: 0.3em;box-sizing: border-box;text-align: center;}#sk-container-id-6 label.sk-toggleable__label-arrow:before {content: \"▸\";float: left;margin-right: 0.25em;color: #696969;}#sk-container-id-6 label.sk-toggleable__label-arrow:hover:before {color: black;}#sk-container-id-6 div.sk-estimator:hover label.sk-toggleable__label-arrow:before {color: black;}#sk-container-id-6 div.sk-toggleable__content {max-height: 0;max-width: 0;overflow: hidden;text-align: left;background-color: #f0f8ff;}#sk-container-id-6 div.sk-toggleable__content pre {margin: 0.2em;color: black;border-radius: 0.25em;background-color: #f0f8ff;}#sk-container-id-6 input.sk-toggleable__control:checked~div.sk-toggleable__content {max-height: 200px;max-width: 100%;overflow: auto;}#sk-container-id-6 input.sk-toggleable__control:checked~label.sk-toggleable__label-arrow:before {content: \"▾\";}#sk-container-id-6 div.sk-estimator input.sk-toggleable__control:checked~label.sk-toggleable__label {background-color: #d4ebff;}#sk-container-id-6 div.sk-label input.sk-toggleable__control:checked~label.sk-toggleable__label {background-color: #d4ebff;}#sk-container-id-6 input.sk-hidden--visually {border: 0;clip: rect(1px 1px 1px 1px);clip: rect(1px, 1px, 1px, 1px);height: 1px;margin: -1px;overflow: hidden;padding: 0;position: absolute;width: 1px;}#sk-container-id-6 div.sk-estimator {font-family: monospace;background-color: #f0f8ff;border: 1px dotted black;border-radius: 0.25em;box-sizing: border-box;margin-bottom: 0.5em;}#sk-container-id-6 div.sk-estimator:hover {background-color: #d4ebff;}#sk-container-id-6 div.sk-parallel-item::after {content: \"\";width: 100%;border-bottom: 1px solid gray;flex-grow: 1;}#sk-container-id-6 div.sk-label:hover label.sk-toggleable__label {background-color: #d4ebff;}#sk-container-id-6 div.sk-serial::before {content: \"\";position: absolute;border-left: 1px solid gray;box-sizing: border-box;top: 0;bottom: 0;left: 50%;z-index: 0;}#sk-container-id-6 div.sk-serial {display: flex;flex-direction: column;align-items: center;background-color: white;padding-right: 0.2em;padding-left: 0.2em;position: relative;}#sk-container-id-6 div.sk-item {position: relative;z-index: 1;}#sk-container-id-6 div.sk-parallel {display: flex;align-items: stretch;justify-content: center;background-color: white;position: relative;}#sk-container-id-6 div.sk-item::before, #sk-container-id-6 div.sk-parallel-item::before {content: \"\";position: absolute;border-left: 1px solid gray;box-sizing: border-box;top: 0;bottom: 0;left: 50%;z-index: -1;}#sk-container-id-6 div.sk-parallel-item {display: flex;flex-direction: column;z-index: 1;position: relative;background-color: white;}#sk-container-id-6 div.sk-parallel-item:first-child::after {align-self: flex-end;width: 50%;}#sk-container-id-6 div.sk-parallel-item:last-child::after {align-self: flex-start;width: 50%;}#sk-container-id-6 div.sk-parallel-item:only-child::after {width: 0;}#sk-container-id-6 div.sk-dashed-wrapped {border: 1px dashed gray;margin: 0 0.4em 0.5em 0.4em;box-sizing: border-box;padding-bottom: 0.4em;background-color: white;}#sk-container-id-6 div.sk-label label {font-family: monospace;font-weight: bold;display: inline-block;line-height: 1.2em;}#sk-container-id-6 div.sk-label-container {text-align: center;}#sk-container-id-6 div.sk-container {/* jupyter's `normalize.less` sets `[hidden] { display: none; }` but bootstrap.min.css set `[hidden] { display: none !important; }` so we also need the `!important` here to be able to override the default hidden behavior on the sphinx rendered scikit-learn.org. See: https://github.com/scikit-learn/scikit-learn/issues/21755 */display: inline-block !important;position: relative;}#sk-container-id-6 div.sk-text-repr-fallback {display: none;}</style><div id=\"sk-container-id-6\" class=\"sk-top-container\"><div class=\"sk-text-repr-fallback\"><pre>RandomForestRegressor(random_state=42)</pre><b>In a Jupyter environment, please rerun this cell to show the HTML representation or trust the notebook. <br />On GitHub, the HTML representation is unable to render, please try loading this page with nbviewer.org.</b></div><div class=\"sk-container\" hidden><div class=\"sk-item\"><div class=\"sk-estimator sk-toggleable\"><input class=\"sk-toggleable__control sk-hidden--visually\" id=\"sk-estimator-id-6\" type=\"checkbox\" checked><label for=\"sk-estimator-id-6\" class=\"sk-toggleable__label sk-toggleable__label-arrow\">RandomForestRegressor</label><div class=\"sk-toggleable__content\"><pre>RandomForestRegressor(random_state=42)</pre></div></div></div></div></div>"
      ],
      "text/plain": [
       "RandomForestRegressor(random_state=42)"
      ]
     },
     "execution_count": 102,
     "metadata": {},
     "output_type": "execute_result"
    }
   ],
   "source": [
    "\n",
    "# Train the model on the training data\n",
    "rf_model.fit(x_train, y_train)\n"
   ]
  },
  {
   "cell_type": "markdown",
   "id": "eb17b0be",
   "metadata": {},
   "source": [
    "### 4.2.9 Make predictions on the test data\n"
   ]
  },
  {
   "cell_type": "code",
   "execution_count": 103,
   "id": "c35cc293",
   "metadata": {},
   "outputs": [],
   "source": [
    "# Make predictions on the test data\n",
    "y_pred = rf_model.predict(x_test)\n"
   ]
  },
  {
   "cell_type": "markdown",
   "id": "281523b6",
   "metadata": {},
   "source": [
    "### 4.3.10 Evaluate the model\n"
   ]
  },
  {
   "cell_type": "code",
   "execution_count": 104,
   "id": "0710953c",
   "metadata": {},
   "outputs": [
    {
     "name": "stdout",
     "output_type": "stream",
     "text": [
      "R-square score in Random Forest Regression model: 0.9984705869992906\n"
     ]
    }
   ],
   "source": [
    "# Evaluate the model\n",
    "r2 = r2_score(y_test, y_pred)\n",
    "\n",
    "print(f'R-square score in Random Forest Regression model: {r2}')"
   ]
  },
  {
   "cell_type": "markdown",
   "id": "2c581147",
   "metadata": {},
   "source": [
    "## 4.4 ANN model"
   ]
  },
  {
   "cell_type": "code",
   "execution_count": 105,
   "id": "d77357a1",
   "metadata": {},
   "outputs": [
    {
     "data": {
      "text/html": [
       "<div>\n",
       "<style scoped>\n",
       "    .dataframe tbody tr th:only-of-type {\n",
       "        vertical-align: middle;\n",
       "    }\n",
       "\n",
       "    .dataframe tbody tr th {\n",
       "        vertical-align: top;\n",
       "    }\n",
       "\n",
       "    .dataframe thead th {\n",
       "        text-align: right;\n",
       "    }\n",
       "</style>\n",
       "<table border=\"1\" class=\"dataframe\">\n",
       "  <thead>\n",
       "    <tr style=\"text-align: right;\">\n",
       "      <th></th>\n",
       "      <th>Engine size</th>\n",
       "      <th>Year of manufacture</th>\n",
       "      <th>Mileage</th>\n",
       "      <th>0</th>\n",
       "      <th>1</th>\n",
       "      <th>2</th>\n",
       "      <th>3</th>\n",
       "      <th>4</th>\n",
       "      <th>5</th>\n",
       "      <th>6</th>\n",
       "      <th>...</th>\n",
       "      <th>10</th>\n",
       "      <th>11</th>\n",
       "      <th>12</th>\n",
       "      <th>13</th>\n",
       "      <th>14</th>\n",
       "      <th>15</th>\n",
       "      <th>16</th>\n",
       "      <th>17</th>\n",
       "      <th>18</th>\n",
       "      <th>19</th>\n",
       "    </tr>\n",
       "  </thead>\n",
       "  <tbody>\n",
       "    <tr>\n",
       "      <th>39087</th>\n",
       "      <td>1.4</td>\n",
       "      <td>1990</td>\n",
       "      <td>143415</td>\n",
       "      <td>1.0</td>\n",
       "      <td>0.0</td>\n",
       "      <td>0.0</td>\n",
       "      <td>0.0</td>\n",
       "      <td>0.0</td>\n",
       "      <td>0.0</td>\n",
       "      <td>1.0</td>\n",
       "      <td>...</td>\n",
       "      <td>0.0</td>\n",
       "      <td>0.0</td>\n",
       "      <td>0.0</td>\n",
       "      <td>0.0</td>\n",
       "      <td>0.0</td>\n",
       "      <td>0.0</td>\n",
       "      <td>0.0</td>\n",
       "      <td>0.0</td>\n",
       "      <td>0.0</td>\n",
       "      <td>1.0</td>\n",
       "    </tr>\n",
       "    <tr>\n",
       "      <th>30893</th>\n",
       "      <td>1.0</td>\n",
       "      <td>1990</td>\n",
       "      <td>259900</td>\n",
       "      <td>0.0</td>\n",
       "      <td>0.0</td>\n",
       "      <td>0.0</td>\n",
       "      <td>1.0</td>\n",
       "      <td>0.0</td>\n",
       "      <td>0.0</td>\n",
       "      <td>0.0</td>\n",
       "      <td>...</td>\n",
       "      <td>0.0</td>\n",
       "      <td>0.0</td>\n",
       "      <td>1.0</td>\n",
       "      <td>0.0</td>\n",
       "      <td>0.0</td>\n",
       "      <td>0.0</td>\n",
       "      <td>0.0</td>\n",
       "      <td>0.0</td>\n",
       "      <td>0.0</td>\n",
       "      <td>1.0</td>\n",
       "    </tr>\n",
       "    <tr>\n",
       "      <th>45278</th>\n",
       "      <td>2.0</td>\n",
       "      <td>2006</td>\n",
       "      <td>106750</td>\n",
       "      <td>0.0</td>\n",
       "      <td>0.0</td>\n",
       "      <td>1.0</td>\n",
       "      <td>0.0</td>\n",
       "      <td>0.0</td>\n",
       "      <td>0.0</td>\n",
       "      <td>0.0</td>\n",
       "      <td>...</td>\n",
       "      <td>0.0</td>\n",
       "      <td>0.0</td>\n",
       "      <td>0.0</td>\n",
       "      <td>0.0</td>\n",
       "      <td>1.0</td>\n",
       "      <td>0.0</td>\n",
       "      <td>0.0</td>\n",
       "      <td>0.0</td>\n",
       "      <td>1.0</td>\n",
       "      <td>0.0</td>\n",
       "    </tr>\n",
       "    <tr>\n",
       "      <th>16398</th>\n",
       "      <td>1.8</td>\n",
       "      <td>2001</td>\n",
       "      <td>126649</td>\n",
       "      <td>0.0</td>\n",
       "      <td>0.0</td>\n",
       "      <td>1.0</td>\n",
       "      <td>0.0</td>\n",
       "      <td>0.0</td>\n",
       "      <td>0.0</td>\n",
       "      <td>0.0</td>\n",
       "      <td>...</td>\n",
       "      <td>0.0</td>\n",
       "      <td>0.0</td>\n",
       "      <td>0.0</td>\n",
       "      <td>0.0</td>\n",
       "      <td>1.0</td>\n",
       "      <td>0.0</td>\n",
       "      <td>0.0</td>\n",
       "      <td>0.0</td>\n",
       "      <td>1.0</td>\n",
       "      <td>0.0</td>\n",
       "    </tr>\n",
       "    <tr>\n",
       "      <th>13653</th>\n",
       "      <td>2.0</td>\n",
       "      <td>1992</td>\n",
       "      <td>66179</td>\n",
       "      <td>0.0</td>\n",
       "      <td>1.0</td>\n",
       "      <td>0.0</td>\n",
       "      <td>0.0</td>\n",
       "      <td>0.0</td>\n",
       "      <td>0.0</td>\n",
       "      <td>0.0</td>\n",
       "      <td>...</td>\n",
       "      <td>0.0</td>\n",
       "      <td>0.0</td>\n",
       "      <td>0.0</td>\n",
       "      <td>0.0</td>\n",
       "      <td>0.0</td>\n",
       "      <td>0.0</td>\n",
       "      <td>0.0</td>\n",
       "      <td>0.0</td>\n",
       "      <td>0.0</td>\n",
       "      <td>1.0</td>\n",
       "    </tr>\n",
       "    <tr>\n",
       "      <th>...</th>\n",
       "      <td>...</td>\n",
       "      <td>...</td>\n",
       "      <td>...</td>\n",
       "      <td>...</td>\n",
       "      <td>...</td>\n",
       "      <td>...</td>\n",
       "      <td>...</td>\n",
       "      <td>...</td>\n",
       "      <td>...</td>\n",
       "      <td>...</td>\n",
       "      <td>...</td>\n",
       "      <td>...</td>\n",
       "      <td>...</td>\n",
       "      <td>...</td>\n",
       "      <td>...</td>\n",
       "      <td>...</td>\n",
       "      <td>...</td>\n",
       "      <td>...</td>\n",
       "      <td>...</td>\n",
       "      <td>...</td>\n",
       "      <td>...</td>\n",
       "    </tr>\n",
       "    <tr>\n",
       "      <th>11284</th>\n",
       "      <td>1.2</td>\n",
       "      <td>1984</td>\n",
       "      <td>279567</td>\n",
       "      <td>0.0</td>\n",
       "      <td>0.0</td>\n",
       "      <td>1.0</td>\n",
       "      <td>0.0</td>\n",
       "      <td>0.0</td>\n",
       "      <td>0.0</td>\n",
       "      <td>0.0</td>\n",
       "      <td>...</td>\n",
       "      <td>0.0</td>\n",
       "      <td>0.0</td>\n",
       "      <td>0.0</td>\n",
       "      <td>0.0</td>\n",
       "      <td>0.0</td>\n",
       "      <td>0.0</td>\n",
       "      <td>1.0</td>\n",
       "      <td>0.0</td>\n",
       "      <td>1.0</td>\n",
       "      <td>0.0</td>\n",
       "    </tr>\n",
       "    <tr>\n",
       "      <th>44732</th>\n",
       "      <td>1.2</td>\n",
       "      <td>2010</td>\n",
       "      <td>108027</td>\n",
       "      <td>0.0</td>\n",
       "      <td>0.0</td>\n",
       "      <td>0.0</td>\n",
       "      <td>1.0</td>\n",
       "      <td>0.0</td>\n",
       "      <td>0.0</td>\n",
       "      <td>0.0</td>\n",
       "      <td>...</td>\n",
       "      <td>0.0</td>\n",
       "      <td>0.0</td>\n",
       "      <td>0.0</td>\n",
       "      <td>0.0</td>\n",
       "      <td>0.0</td>\n",
       "      <td>0.0</td>\n",
       "      <td>0.0</td>\n",
       "      <td>0.0</td>\n",
       "      <td>0.0</td>\n",
       "      <td>0.0</td>\n",
       "    </tr>\n",
       "    <tr>\n",
       "      <th>38158</th>\n",
       "      <td>2.0</td>\n",
       "      <td>2016</td>\n",
       "      <td>72963</td>\n",
       "      <td>0.0</td>\n",
       "      <td>0.0</td>\n",
       "      <td>0.0</td>\n",
       "      <td>1.0</td>\n",
       "      <td>0.0</td>\n",
       "      <td>0.0</td>\n",
       "      <td>0.0</td>\n",
       "      <td>...</td>\n",
       "      <td>0.0</td>\n",
       "      <td>1.0</td>\n",
       "      <td>0.0</td>\n",
       "      <td>0.0</td>\n",
       "      <td>0.0</td>\n",
       "      <td>0.0</td>\n",
       "      <td>0.0</td>\n",
       "      <td>0.0</td>\n",
       "      <td>0.0</td>\n",
       "      <td>0.0</td>\n",
       "    </tr>\n",
       "    <tr>\n",
       "      <th>860</th>\n",
       "      <td>2.4</td>\n",
       "      <td>1988</td>\n",
       "      <td>275595</td>\n",
       "      <td>0.0</td>\n",
       "      <td>0.0</td>\n",
       "      <td>0.0</td>\n",
       "      <td>0.0</td>\n",
       "      <td>0.0</td>\n",
       "      <td>0.0</td>\n",
       "      <td>0.0</td>\n",
       "      <td>...</td>\n",
       "      <td>0.0</td>\n",
       "      <td>0.0</td>\n",
       "      <td>0.0</td>\n",
       "      <td>0.0</td>\n",
       "      <td>0.0</td>\n",
       "      <td>1.0</td>\n",
       "      <td>0.0</td>\n",
       "      <td>0.0</td>\n",
       "      <td>0.0</td>\n",
       "      <td>0.0</td>\n",
       "    </tr>\n",
       "    <tr>\n",
       "      <th>15795</th>\n",
       "      <td>1.4</td>\n",
       "      <td>1996</td>\n",
       "      <td>58043</td>\n",
       "      <td>0.0</td>\n",
       "      <td>0.0</td>\n",
       "      <td>0.0</td>\n",
       "      <td>1.0</td>\n",
       "      <td>0.0</td>\n",
       "      <td>0.0</td>\n",
       "      <td>0.0</td>\n",
       "      <td>...</td>\n",
       "      <td>0.0</td>\n",
       "      <td>1.0</td>\n",
       "      <td>0.0</td>\n",
       "      <td>0.0</td>\n",
       "      <td>0.0</td>\n",
       "      <td>0.0</td>\n",
       "      <td>0.0</td>\n",
       "      <td>0.0</td>\n",
       "      <td>0.0</td>\n",
       "      <td>1.0</td>\n",
       "    </tr>\n",
       "  </tbody>\n",
       "</table>\n",
       "<p>40000 rows × 23 columns</p>\n",
       "</div>"
      ],
      "text/plain": [
       "       Engine size  Year of manufacture  Mileage    0    1    2    3    4  \\\n",
       "39087          1.4                 1990   143415  1.0  0.0  0.0  0.0  0.0   \n",
       "30893          1.0                 1990   259900  0.0  0.0  0.0  1.0  0.0   \n",
       "45278          2.0                 2006   106750  0.0  0.0  1.0  0.0  0.0   \n",
       "16398          1.8                 2001   126649  0.0  0.0  1.0  0.0  0.0   \n",
       "13653          2.0                 1992    66179  0.0  1.0  0.0  0.0  0.0   \n",
       "...            ...                  ...      ...  ...  ...  ...  ...  ...   \n",
       "11284          1.2                 1984   279567  0.0  0.0  1.0  0.0  0.0   \n",
       "44732          1.2                 2010   108027  0.0  0.0  0.0  1.0  0.0   \n",
       "38158          2.0                 2016    72963  0.0  0.0  0.0  1.0  0.0   \n",
       "860            2.4                 1988   275595  0.0  0.0  0.0  0.0  0.0   \n",
       "15795          1.4                 1996    58043  0.0  0.0  0.0  1.0  0.0   \n",
       "\n",
       "         5    6  ...   10   11   12   13   14   15   16   17   18   19  \n",
       "39087  0.0  1.0  ...  0.0  0.0  0.0  0.0  0.0  0.0  0.0  0.0  0.0  1.0  \n",
       "30893  0.0  0.0  ...  0.0  0.0  1.0  0.0  0.0  0.0  0.0  0.0  0.0  1.0  \n",
       "45278  0.0  0.0  ...  0.0  0.0  0.0  0.0  1.0  0.0  0.0  0.0  1.0  0.0  \n",
       "16398  0.0  0.0  ...  0.0  0.0  0.0  0.0  1.0  0.0  0.0  0.0  1.0  0.0  \n",
       "13653  0.0  0.0  ...  0.0  0.0  0.0  0.0  0.0  0.0  0.0  0.0  0.0  1.0  \n",
       "...    ...  ...  ...  ...  ...  ...  ...  ...  ...  ...  ...  ...  ...  \n",
       "11284  0.0  0.0  ...  0.0  0.0  0.0  0.0  0.0  0.0  1.0  0.0  1.0  0.0  \n",
       "44732  0.0  0.0  ...  0.0  0.0  0.0  0.0  0.0  0.0  0.0  0.0  0.0  0.0  \n",
       "38158  0.0  0.0  ...  0.0  1.0  0.0  0.0  0.0  0.0  0.0  0.0  0.0  0.0  \n",
       "860    0.0  0.0  ...  0.0  0.0  0.0  0.0  0.0  1.0  0.0  0.0  0.0  0.0  \n",
       "15795  0.0  0.0  ...  0.0  1.0  0.0  0.0  0.0  0.0  0.0  0.0  0.0  1.0  \n",
       "\n",
       "[40000 rows x 23 columns]"
      ]
     },
     "execution_count": 105,
     "metadata": {},
     "output_type": "execute_result"
    }
   ],
   "source": [
    "x_train"
   ]
  },
  {
   "cell_type": "markdown",
   "id": "25a44d67",
   "metadata": {},
   "source": [
    "### 4.4.1 standardize the training and testing input data"
   ]
  },
  {
   "cell_type": "code",
   "execution_count": 106,
   "id": "019e10ef",
   "metadata": {},
   "outputs": [],
   "source": [
    "from sklearn.preprocessing import StandardScaler\n",
    "\n",
    "scaler = StandardScaler()\n",
    "\n",
    "# standardize\n",
    "x_train_scaled = scaler.fit_transform(x_train) \n",
    "x_test_scaled = scaler.fit_transform(x_test)"
   ]
  },
  {
   "cell_type": "code",
   "execution_count": 107,
   "id": "778ab516",
   "metadata": {},
   "outputs": [
    {
     "data": {
      "text/plain": [
       "(40000, 23)"
      ]
     },
     "execution_count": 107,
     "metadata": {},
     "output_type": "execute_result"
    }
   ],
   "source": [
    "x_train_scaled.shape"
   ]
  },
  {
   "cell_type": "markdown",
   "id": "bbe21ac5",
   "metadata": {},
   "source": [
    "### 4.4.2 build ANN model\n"
   ]
  },
  {
   "cell_type": "code",
   "execution_count": 108,
   "id": "9cb35131",
   "metadata": {},
   "outputs": [],
   "source": [
    "# build ANN model\n",
    "from tensorflow.keras.models import Sequential\n",
    "from tensorflow.keras.layers import Dense\n",
    "\n",
    "model = Sequential()\n",
    "\n",
    "model.add(Dense(128, activation = 'relu', input_shape = (x_train_scaled.shape[1],)))\n",
    "model.add(Dense(64, activation = 'relu'))\n",
    "model.add(Dense(1, activation = 'linear'))"
   ]
  },
  {
   "cell_type": "markdown",
   "id": "fdfb237c",
   "metadata": {},
   "source": [
    "### 4.4.3 compiling the model\n"
   ]
  },
  {
   "cell_type": "code",
   "execution_count": 109,
   "id": "cf8ce8e4",
   "metadata": {},
   "outputs": [],
   "source": [
    "# compiling the model\n",
    "\n",
    "model.compile(\n",
    "        optimizer = 'adam',\n",
    "        loss = 'mean_squared_error'\n",
    ")"
   ]
  },
  {
   "cell_type": "markdown",
   "id": "999436c9",
   "metadata": {},
   "source": [
    "### 4.4.4 fit the model using the training data \n"
   ]
  },
  {
   "cell_type": "code",
   "execution_count": 110,
   "id": "5065948f",
   "metadata": {},
   "outputs": [
    {
     "name": "stdout",
     "output_type": "stream",
     "text": [
      "Epoch 1/50\n",
      "1125/1125 [==============================] - 3s 2ms/step - loss: 219455824.0000 - val_loss: 51650992.0000\n",
      "Epoch 2/50\n",
      "1125/1125 [==============================] - 2s 2ms/step - loss: 39471848.0000 - val_loss: 26358552.0000\n",
      "Epoch 3/50\n",
      "1125/1125 [==============================] - 2s 2ms/step - loss: 24822708.0000 - val_loss: 17925192.0000\n",
      "Epoch 4/50\n",
      "1125/1125 [==============================] - 2s 1ms/step - loss: 17650582.0000 - val_loss: 12141769.0000\n",
      "Epoch 5/50\n",
      "1125/1125 [==============================] - 2s 1ms/step - loss: 12185771.0000 - val_loss: 8052807.0000\n",
      "Epoch 6/50\n",
      "1125/1125 [==============================] - 2s 1ms/step - loss: 8540943.0000 - val_loss: 5451549.0000\n",
      "Epoch 7/50\n",
      "1125/1125 [==============================] - 2s 2ms/step - loss: 6132472.0000 - val_loss: 3872046.0000\n",
      "Epoch 8/50\n",
      "1125/1125 [==============================] - 2s 2ms/step - loss: 4453154.0000 - val_loss: 2664854.0000\n",
      "Epoch 9/50\n",
      "1125/1125 [==============================] - 2s 2ms/step - loss: 3238277.5000 - val_loss: 1984707.2500\n",
      "Epoch 10/50\n",
      "1125/1125 [==============================] - 2s 2ms/step - loss: 2403682.7500 - val_loss: 1609193.6250\n",
      "Epoch 11/50\n",
      "1125/1125 [==============================] - 2s 1ms/step - loss: 1804686.7500 - val_loss: 1101609.8750\n",
      "Epoch 12/50\n",
      "1125/1125 [==============================] - 2s 1ms/step - loss: 1379070.7500 - val_loss: 848388.8125\n",
      "Epoch 13/50\n",
      "1125/1125 [==============================] - 2s 1ms/step - loss: 1089733.0000 - val_loss: 704201.7500\n",
      "Epoch 14/50\n",
      "1125/1125 [==============================] - 2s 2ms/step - loss: 876008.8125 - val_loss: 692659.8750\n",
      "Epoch 15/50\n",
      "1125/1125 [==============================] - 2s 1ms/step - loss: 720369.5000 - val_loss: 479168.3125\n",
      "Epoch 16/50\n",
      "1125/1125 [==============================] - 2s 1ms/step - loss: 606698.3750 - val_loss: 426871.5625\n",
      "Epoch 17/50\n",
      "1125/1125 [==============================] - 2s 1ms/step - loss: 513939.1250 - val_loss: 360580.2188\n",
      "Epoch 18/50\n",
      "1125/1125 [==============================] - 2s 1ms/step - loss: 444250.8750 - val_loss: 322357.5938\n",
      "Epoch 19/50\n",
      "1125/1125 [==============================] - 2s 1ms/step - loss: 388593.5000 - val_loss: 287640.3750\n",
      "Epoch 20/50\n",
      "1125/1125 [==============================] - 2s 1ms/step - loss: 337986.4688 - val_loss: 257721.3125\n",
      "Epoch 21/50\n",
      "1125/1125 [==============================] - 2s 1ms/step - loss: 300219.5625 - val_loss: 262239.2500\n",
      "Epoch 22/50\n",
      "1125/1125 [==============================] - 2s 1ms/step - loss: 263002.5312 - val_loss: 219553.2812\n",
      "Epoch 23/50\n",
      "1125/1125 [==============================] - 2s 1ms/step - loss: 232583.4688 - val_loss: 286966.7188\n",
      "Epoch 24/50\n",
      "1125/1125 [==============================] - 2s 2ms/step - loss: 212110.7812 - val_loss: 274705.5938\n",
      "Epoch 25/50\n",
      "1125/1125 [==============================] - 2s 1ms/step - loss: 189405.5312 - val_loss: 148643.6406\n",
      "Epoch 26/50\n",
      "1125/1125 [==============================] - 2s 1ms/step - loss: 170808.3125 - val_loss: 142356.3594\n",
      "Epoch 27/50\n",
      "1125/1125 [==============================] - 2s 1ms/step - loss: 156182.9844 - val_loss: 140980.3906\n",
      "Epoch 28/50\n",
      "1125/1125 [==============================] - 2s 1ms/step - loss: 144482.0000 - val_loss: 134483.8438\n",
      "Epoch 29/50\n",
      "1125/1125 [==============================] - 2s 2ms/step - loss: 128640.2422 - val_loss: 112451.4766\n",
      "Epoch 30/50\n",
      "1125/1125 [==============================] - 2s 1ms/step - loss: 121617.6953 - val_loss: 130535.1406\n",
      "Epoch 31/50\n",
      "1125/1125 [==============================] - 2s 1ms/step - loss: 111196.5547 - val_loss: 112626.6250\n",
      "Epoch 32/50\n",
      "1125/1125 [==============================] - 2s 1ms/step - loss: 103210.2266 - val_loss: 80975.9922\n",
      "Epoch 33/50\n",
      "1125/1125 [==============================] - 2s 1ms/step - loss: 93203.5859 - val_loss: 91140.3359\n",
      "Epoch 34/50\n",
      "1125/1125 [==============================] - 2s 1ms/step - loss: 89740.0156 - val_loss: 85203.9062\n",
      "Epoch 35/50\n",
      "1125/1125 [==============================] - 2s 1ms/step - loss: 87899.0938 - val_loss: 76847.2500\n",
      "Epoch 36/50\n",
      "1125/1125 [==============================] - 2s 1ms/step - loss: 79775.1875 - val_loss: 66069.3828\n",
      "Epoch 37/50\n",
      "1125/1125 [==============================] - 2s 1ms/step - loss: 76365.2812 - val_loss: 66420.5078\n",
      "Epoch 38/50\n",
      "1125/1125 [==============================] - 2s 1ms/step - loss: 73632.1875 - val_loss: 61506.2070\n",
      "Epoch 39/50\n",
      "1125/1125 [==============================] - 2s 1ms/step - loss: 72359.7422 - val_loss: 60138.5781\n",
      "Epoch 40/50\n",
      "1125/1125 [==============================] - 2s 1ms/step - loss: 70278.1250 - val_loss: 59779.6133\n",
      "Epoch 41/50\n",
      "1125/1125 [==============================] - 2s 1ms/step - loss: 66184.3438 - val_loss: 49599.4414\n",
      "Epoch 42/50\n",
      "1125/1125 [==============================] - 2s 1ms/step - loss: 62117.6094 - val_loss: 63814.2891\n",
      "Epoch 43/50\n",
      "1125/1125 [==============================] - 2s 1ms/step - loss: 61261.1992 - val_loss: 48776.1016\n",
      "Epoch 44/50\n",
      "1125/1125 [==============================] - 2s 1ms/step - loss: 61643.8984 - val_loss: 56283.6523\n",
      "Epoch 45/50\n",
      "1125/1125 [==============================] - 2s 1ms/step - loss: 57423.8555 - val_loss: 58724.7383\n",
      "Epoch 46/50\n",
      "1125/1125 [==============================] - 2s 1ms/step - loss: 57234.7617 - val_loss: 45112.5703\n",
      "Epoch 47/50\n",
      "1125/1125 [==============================] - 2s 2ms/step - loss: 57405.0195 - val_loss: 46662.0586\n",
      "Epoch 48/50\n",
      "1125/1125 [==============================] - 2s 1ms/step - loss: 53545.1250 - val_loss: 42668.9570\n",
      "Epoch 49/50\n",
      "1125/1125 [==============================] - 2s 2ms/step - loss: 51816.4648 - val_loss: 46037.8047\n",
      "Epoch 50/50\n",
      "1125/1125 [==============================] - 2s 1ms/step - loss: 52888.5898 - val_loss: 40977.4219\n"
     ]
    },
    {
     "data": {
      "text/plain": [
       "<keras.src.callbacks.History at 0x1bd02270cd0>"
      ]
     },
     "execution_count": 110,
     "metadata": {},
     "output_type": "execute_result"
    }
   ],
   "source": [
    "# fit the model using the training data \n",
    "\n",
    "model.fit(x_train_scaled, y_train, epochs = 50, batch_size = 32, validation_split = 0.1)"
   ]
  },
  {
   "cell_type": "markdown",
   "id": "3c70517a",
   "metadata": {},
   "source": [
    "### 4.4.5 make prediction using the testing data\n"
   ]
  },
  {
   "cell_type": "code",
   "execution_count": 111,
   "id": "5870e28f",
   "metadata": {},
   "outputs": [
    {
     "name": "stdout",
     "output_type": "stream",
     "text": [
      "313/313 [==============================] - 0s 1ms/step\n"
     ]
    }
   ],
   "source": [
    "# make prediction using the testing data\n",
    "\n",
    "y_pred = model.predict(x_test_scaled)"
   ]
  },
  {
   "cell_type": "code",
   "execution_count": 112,
   "id": "e5d50655",
   "metadata": {},
   "outputs": [
    {
     "data": {
      "text/plain": [
       "array([[69719.6    ],\n",
       "       [35882.383  ],\n",
       "       [17838.664  ],\n",
       "       ...,\n",
       "       [39878.55   ],\n",
       "       [  684.56635],\n",
       "       [35565.305  ]], dtype=float32)"
      ]
     },
     "execution_count": 112,
     "metadata": {},
     "output_type": "execute_result"
    }
   ],
   "source": [
    "y_pred"
   ]
  },
  {
   "cell_type": "markdown",
   "id": "e8fcab6b",
   "metadata": {},
   "source": [
    "### 4.4.6 Evaluate the model"
   ]
  },
  {
   "cell_type": "code",
   "execution_count": 113,
   "id": "3be9a2af",
   "metadata": {},
   "outputs": [
    {
     "name": "stdout",
     "output_type": "stream",
     "text": [
      "R-square score in ANN model: 0.9984977825995061\n"
     ]
    }
   ],
   "source": [
    "from sklearn.metrics import r2_score\n",
    "\n",
    "r2 = r2_score(y_test, y_pred)\n",
    "print(f'R-square score in ANN model: {r2}')\n"
   ]
  },
  {
   "cell_type": "markdown",
   "id": "cbf4c73d",
   "metadata": {},
   "source": [
    "# 5. Applying unsupervised learning"
   ]
  },
  {
   "cell_type": "markdown",
   "id": "07d1e8f7",
   "metadata": {},
   "source": [
    "## 5.1 K mean clustering\n",
    "\n",
    "### 5.1.0 Importing libraries"
   ]
  },
  {
   "cell_type": "code",
   "execution_count": 114,
   "id": "1c830bc4",
   "metadata": {},
   "outputs": [],
   "source": [
    "from sklearn.cluster import KMeans\n",
    "from sklearn.preprocessing import StandardScaler\n",
    "from sklearn.metrics import silhouette_score, davies_bouldin_score\n"
   ]
  },
  {
   "cell_type": "markdown",
   "id": "7905d3d0",
   "metadata": {},
   "source": [
    "### 5.1.1 k-means clustering using 2 numerical feature input"
   ]
  },
  {
   "cell_type": "markdown",
   "id": "bd837f66",
   "metadata": {},
   "source": [
    "### 5.1.1.1 Drop the original categorical columns\n"
   ]
  },
  {
   "cell_type": "code",
   "execution_count": 115,
   "id": "8ef83581",
   "metadata": {
    "scrolled": true
   },
   "outputs": [
    {
     "data": {
      "text/html": [
       "<div>\n",
       "<style scoped>\n",
       "    .dataframe tbody tr th:only-of-type {\n",
       "        vertical-align: middle;\n",
       "    }\n",
       "\n",
       "    .dataframe tbody tr th {\n",
       "        vertical-align: top;\n",
       "    }\n",
       "\n",
       "    .dataframe thead th {\n",
       "        text-align: right;\n",
       "    }\n",
       "</style>\n",
       "<table border=\"1\" class=\"dataframe\">\n",
       "  <thead>\n",
       "    <tr style=\"text-align: right;\">\n",
       "      <th></th>\n",
       "      <th>Engine size</th>\n",
       "      <th>Mileage</th>\n",
       "      <th>Price</th>\n",
       "    </tr>\n",
       "  </thead>\n",
       "  <tbody>\n",
       "    <tr>\n",
       "      <th>0</th>\n",
       "      <td>1.0</td>\n",
       "      <td>127300</td>\n",
       "      <td>3074</td>\n",
       "    </tr>\n",
       "    <tr>\n",
       "      <th>1</th>\n",
       "      <td>4.0</td>\n",
       "      <td>57850</td>\n",
       "      <td>49704</td>\n",
       "    </tr>\n",
       "    <tr>\n",
       "      <th>2</th>\n",
       "      <td>1.6</td>\n",
       "      <td>39190</td>\n",
       "      <td>24072</td>\n",
       "    </tr>\n",
       "    <tr>\n",
       "      <th>3</th>\n",
       "      <td>1.8</td>\n",
       "      <td>210814</td>\n",
       "      <td>1705</td>\n",
       "    </tr>\n",
       "    <tr>\n",
       "      <th>4</th>\n",
       "      <td>1.0</td>\n",
       "      <td>127869</td>\n",
       "      <td>4101</td>\n",
       "    </tr>\n",
       "    <tr>\n",
       "      <th>...</th>\n",
       "      <td>...</td>\n",
       "      <td>...</td>\n",
       "      <td>...</td>\n",
       "    </tr>\n",
       "    <tr>\n",
       "      <th>49995</th>\n",
       "      <td>5.0</td>\n",
       "      <td>28664</td>\n",
       "      <td>113006</td>\n",
       "    </tr>\n",
       "    <tr>\n",
       "      <th>49996</th>\n",
       "      <td>1.8</td>\n",
       "      <td>105120</td>\n",
       "      <td>9430</td>\n",
       "    </tr>\n",
       "    <tr>\n",
       "      <th>49997</th>\n",
       "      <td>1.6</td>\n",
       "      <td>4030</td>\n",
       "      <td>49852</td>\n",
       "    </tr>\n",
       "    <tr>\n",
       "      <th>49998</th>\n",
       "      <td>1.0</td>\n",
       "      <td>26468</td>\n",
       "      <td>23630</td>\n",
       "    </tr>\n",
       "    <tr>\n",
       "      <th>49999</th>\n",
       "      <td>1.4</td>\n",
       "      <td>109300</td>\n",
       "      <td>10400</td>\n",
       "    </tr>\n",
       "  </tbody>\n",
       "</table>\n",
       "<p>50000 rows × 3 columns</p>\n",
       "</div>"
      ],
      "text/plain": [
       "       Engine size  Mileage   Price\n",
       "0              1.0   127300    3074\n",
       "1              4.0    57850   49704\n",
       "2              1.6    39190   24072\n",
       "3              1.8   210814    1705\n",
       "4              1.0   127869    4101\n",
       "...            ...      ...     ...\n",
       "49995          5.0    28664  113006\n",
       "49996          1.8   105120    9430\n",
       "49997          1.6     4030   49852\n",
       "49998          1.0    26468   23630\n",
       "49999          1.4   109300   10400\n",
       "\n",
       "[50000 rows x 3 columns]"
      ]
     },
     "execution_count": 115,
     "metadata": {},
     "output_type": "execute_result"
    }
   ],
   "source": [
    "# Drop the original categorical columns\n",
    "data = dataset.drop(['Manufacturer', 'Model', 'Fuel type', 'Year of manufacture'], axis=1)\n",
    "data"
   ]
  },
  {
   "cell_type": "markdown",
   "id": "1757be76",
   "metadata": {},
   "source": [
    "### 5.1.1.2 standaraize the data\n"
   ]
  },
  {
   "cell_type": "code",
   "execution_count": 116,
   "id": "e301baa2",
   "metadata": {},
   "outputs": [],
   "source": [
    "scaler = StandardScaler()\n",
    "scaled_data = scaler.fit_transform(data)"
   ]
  },
  {
   "cell_type": "code",
   "execution_count": 117,
   "id": "0f8c5888",
   "metadata": {},
   "outputs": [
    {
     "data": {
      "text/plain": [
       "array([[-1.05306836,  0.20664955, -0.65512697],\n",
       "       [ 3.03356561, -0.76289192,  2.18530499],\n",
       "       [-0.23574157, -1.02339075,  0.62395067],\n",
       "       ...,\n",
       "       [-0.23574157, -1.51423421,  2.1943203 ],\n",
       "       [-1.05306836, -1.20099344,  0.59702656],\n",
       "       [-0.50818383, -0.04463549, -0.2088691 ]])"
      ]
     },
     "execution_count": 117,
     "metadata": {},
     "output_type": "execute_result"
    }
   ],
   "source": [
    "scaled_data"
   ]
  },
  {
   "cell_type": "markdown",
   "id": "9c80f850",
   "metadata": {},
   "source": [
    "### 5.1.1.3 Apply k-Means clustering with different k values\n"
   ]
  },
  {
   "cell_type": "code",
   "execution_count": 118,
   "id": "1d30ce63",
   "metadata": {},
   "outputs": [
    {
     "name": "stdout",
     "output_type": "stream",
     "text": [
      "k-means clustering using 2 numerical feature input\n",
      "Clusters: 2, Inertia: 98091.45262098621, Silhouette: 0.3669037012204407, Davies-Bouldin: 1.1078968604155395\n",
      "Clusters: 3, Inertia: 67640.20684663932, Silhouette: 0.3837362495977886, Davies-Bouldin: 0.9464029615658083\n",
      "Clusters: 4, Inertia: 53355.18029571917, Silhouette: 0.3939015989244124, Davies-Bouldin: 0.8875475042141868\n",
      "Clusters: 5, Inertia: 40952.01764038799, Silhouette: 0.3551896769108442, Davies-Bouldin: 0.865004339535966\n",
      "Clusters: 6, Inertia: 34662.87493969449, Silhouette: 0.3188912041933196, Davies-Bouldin: 0.8978029803587639\n",
      "Clusters: 7, Inertia: 29914.267549593955, Silhouette: 0.3340851222070231, Davies-Bouldin: 0.8437406928459491\n",
      "Clusters: 8, Inertia: 26899.46263766519, Silhouette: 0.3110482480099364, Davies-Bouldin: 0.8780938100030149\n",
      "Clusters: 9, Inertia: 24156.625624845357, Silhouette: 0.323078080141373, Davies-Bouldin: 0.8524310418261667\n",
      "Clusters: 10, Inertia: 21934.46738942913, Silhouette: 0.3224778871061413, Davies-Bouldin: 0.8701647875029245\n"
     ]
    }
   ],
   "source": [
    "# Apply k-Means clustering with different k values\n",
    "\n",
    "print('k-means clustering using 2 numerical feature input')\n",
    "\n",
    "for k in range(2, 11):\n",
    "    kmeans = KMeans(n_clusters=k, random_state=42)\n",
    "    clusters = kmeans.fit_predict(scaled_data)\n",
    "\n",
    "    # Evaluate clustering\n",
    "    inertia = kmeans.inertia_\n",
    "    silhouette = silhouette_score(scaled_data, clusters)\n",
    "    davies_bouldin = davies_bouldin_score(scaled_data, clusters)\n",
    "    \n",
    "    print(f'Clusters: {k}, Inertia: {inertia}, Silhouette: {silhouette}, Davies-Bouldin: {davies_bouldin}')\n"
   ]
  },
  {
   "cell_type": "markdown",
   "id": "cc605ff6",
   "metadata": {},
   "source": [
    "### 5.1.2 k-means clustering using 3 numerical feature input \n",
    "\n",
    "### 5.1.2.1 Drop the original categorical columns "
   ]
  },
  {
   "cell_type": "code",
   "execution_count": 119,
   "id": "ba4ba04c",
   "metadata": {},
   "outputs": [],
   "source": [
    "# Drop the original categorical columns\n",
    "data = dataset.drop(['Manufacturer', 'Model', 'Fuel type'], axis=1)"
   ]
  },
  {
   "cell_type": "code",
   "execution_count": 120,
   "id": "0669d814",
   "metadata": {},
   "outputs": [
    {
     "data": {
      "text/html": [
       "<div>\n",
       "<style scoped>\n",
       "    .dataframe tbody tr th:only-of-type {\n",
       "        vertical-align: middle;\n",
       "    }\n",
       "\n",
       "    .dataframe tbody tr th {\n",
       "        vertical-align: top;\n",
       "    }\n",
       "\n",
       "    .dataframe thead th {\n",
       "        text-align: right;\n",
       "    }\n",
       "</style>\n",
       "<table border=\"1\" class=\"dataframe\">\n",
       "  <thead>\n",
       "    <tr style=\"text-align: right;\">\n",
       "      <th></th>\n",
       "      <th>Engine size</th>\n",
       "      <th>Year of manufacture</th>\n",
       "      <th>Mileage</th>\n",
       "      <th>Price</th>\n",
       "    </tr>\n",
       "  </thead>\n",
       "  <tbody>\n",
       "    <tr>\n",
       "      <th>0</th>\n",
       "      <td>1.0</td>\n",
       "      <td>2002</td>\n",
       "      <td>127300</td>\n",
       "      <td>3074</td>\n",
       "    </tr>\n",
       "    <tr>\n",
       "      <th>1</th>\n",
       "      <td>4.0</td>\n",
       "      <td>2016</td>\n",
       "      <td>57850</td>\n",
       "      <td>49704</td>\n",
       "    </tr>\n",
       "    <tr>\n",
       "      <th>2</th>\n",
       "      <td>1.6</td>\n",
       "      <td>2014</td>\n",
       "      <td>39190</td>\n",
       "      <td>24072</td>\n",
       "    </tr>\n",
       "    <tr>\n",
       "      <th>3</th>\n",
       "      <td>1.8</td>\n",
       "      <td>1988</td>\n",
       "      <td>210814</td>\n",
       "      <td>1705</td>\n",
       "    </tr>\n",
       "    <tr>\n",
       "      <th>4</th>\n",
       "      <td>1.0</td>\n",
       "      <td>2006</td>\n",
       "      <td>127869</td>\n",
       "      <td>4101</td>\n",
       "    </tr>\n",
       "    <tr>\n",
       "      <th>...</th>\n",
       "      <td>...</td>\n",
       "      <td>...</td>\n",
       "      <td>...</td>\n",
       "      <td>...</td>\n",
       "    </tr>\n",
       "    <tr>\n",
       "      <th>49995</th>\n",
       "      <td>5.0</td>\n",
       "      <td>2018</td>\n",
       "      <td>28664</td>\n",
       "      <td>113006</td>\n",
       "    </tr>\n",
       "    <tr>\n",
       "      <th>49996</th>\n",
       "      <td>1.8</td>\n",
       "      <td>2003</td>\n",
       "      <td>105120</td>\n",
       "      <td>9430</td>\n",
       "    </tr>\n",
       "    <tr>\n",
       "      <th>49997</th>\n",
       "      <td>1.6</td>\n",
       "      <td>2022</td>\n",
       "      <td>4030</td>\n",
       "      <td>49852</td>\n",
       "    </tr>\n",
       "    <tr>\n",
       "      <th>49998</th>\n",
       "      <td>1.0</td>\n",
       "      <td>2016</td>\n",
       "      <td>26468</td>\n",
       "      <td>23630</td>\n",
       "    </tr>\n",
       "    <tr>\n",
       "      <th>49999</th>\n",
       "      <td>1.4</td>\n",
       "      <td>2012</td>\n",
       "      <td>109300</td>\n",
       "      <td>10400</td>\n",
       "    </tr>\n",
       "  </tbody>\n",
       "</table>\n",
       "<p>50000 rows × 4 columns</p>\n",
       "</div>"
      ],
      "text/plain": [
       "       Engine size  Year of manufacture  Mileage   Price\n",
       "0              1.0                 2002   127300    3074\n",
       "1              4.0                 2016    57850   49704\n",
       "2              1.6                 2014    39190   24072\n",
       "3              1.8                 1988   210814    1705\n",
       "4              1.0                 2006   127869    4101\n",
       "...            ...                  ...      ...     ...\n",
       "49995          5.0                 2018    28664  113006\n",
       "49996          1.8                 2003   105120    9430\n",
       "49997          1.6                 2022     4030   49852\n",
       "49998          1.0                 2016    26468   23630\n",
       "49999          1.4                 2012   109300   10400\n",
       "\n",
       "[50000 rows x 4 columns]"
      ]
     },
     "execution_count": 120,
     "metadata": {},
     "output_type": "execute_result"
    }
   ],
   "source": [
    "data"
   ]
  },
  {
   "cell_type": "markdown",
   "id": "99184e6c",
   "metadata": {},
   "source": [
    "### 5.1.2.2 standarize the data "
   ]
  },
  {
   "cell_type": "code",
   "execution_count": 121,
   "id": "ede79c0c",
   "metadata": {},
   "outputs": [],
   "source": [
    "scaler = StandardScaler()\n",
    "scaled_data = scaler.fit_transform(data)"
   ]
  },
  {
   "cell_type": "code",
   "execution_count": 122,
   "id": "68b0c6d4",
   "metadata": {},
   "outputs": [
    {
     "data": {
      "text/plain": [
       "array([[-1.05306836, -0.22905558,  0.20664955, -0.65512697],\n",
       "       [ 3.03356561,  1.22234304, -0.76289192,  2.18530499],\n",
       "       [-0.23574157,  1.01500038, -1.02339075,  0.62395067],\n",
       "       ...,\n",
       "       [-0.23574157,  1.84437103, -1.51423421,  2.1943203 ],\n",
       "       [-1.05306836,  1.22234304, -1.20099344,  0.59702656],\n",
       "       [-0.50818383,  0.80765772, -0.04463549, -0.2088691 ]])"
      ]
     },
     "execution_count": 122,
     "metadata": {},
     "output_type": "execute_result"
    }
   ],
   "source": [
    "scaled_data"
   ]
  },
  {
   "cell_type": "markdown",
   "id": "04d5eb2b",
   "metadata": {},
   "source": [
    "### 5.1.2.3 Apply k-Means clustering with different k values\n"
   ]
  },
  {
   "cell_type": "code",
   "execution_count": 123,
   "id": "861521f4",
   "metadata": {
    "scrolled": true
   },
   "outputs": [
    {
     "name": "stdout",
     "output_type": "stream",
     "text": [
      "k-means clustering using 3 numerical feature input\n",
      "Clusters: 2, Inertia: 116530.87591309159, Silhouette: 0.39735675661460274, Davies-Bouldin: 0.9841527072766522\n",
      "Clusters: 3, Inertia: 87492.31979501166, Silhouette: 0.4093777993502264, Davies-Bouldin: 0.957912509564022\n",
      "Clusters: 4, Inertia: 69304.38347564946, Silhouette: 0.328995478659553, Davies-Bouldin: 0.9876761833564394\n",
      "Clusters: 5, Inertia: 54699.89629693521, Silhouette: 0.343744398210847, Davies-Bouldin: 0.8953580078939852\n",
      "Clusters: 6, Inertia: 47052.289475394784, Silhouette: 0.29801437627490474, Davies-Bouldin: 0.9524050784773186\n",
      "Clusters: 7, Inertia: 42343.923009551996, Silhouette: 0.27303272152241786, Davies-Bouldin: 1.0097146049595984\n",
      "Clusters: 8, Inertia: 38495.91528808992, Silhouette: 0.2800694520350489, Davies-Bouldin: 1.0132378712529535\n",
      "Clusters: 9, Inertia: 35293.32738858744, Silhouette: 0.28069235267142595, Davies-Bouldin: 1.0184967931412017\n",
      "Clusters: 10, Inertia: 32535.288539463025, Silhouette: 0.28223384257860057, Davies-Bouldin: 1.0120142329281643\n"
     ]
    }
   ],
   "source": [
    "# Apply k-Means clustering with different k values\n",
    "\n",
    "print('k-means clustering using 3 numerical feature input')\n",
    "for k in range(2, 11):\n",
    "    kmeans = KMeans(n_clusters=k, random_state=42)\n",
    "    clusters = kmeans.fit_predict(scaled_data)\n",
    "\n",
    "    # Evaluate clustering\n",
    "    inertia = kmeans.inertia_\n",
    "    silhouette = silhouette_score(scaled_data, clusters)\n",
    "    davies_bouldin = davies_bouldin_score(scaled_data, clusters)\n",
    "    \n",
    "    print(f'Clusters: {k}, Inertia: {inertia}, Silhouette: {silhouette}, Davies-Bouldin: {davies_bouldin}')\n"
   ]
  },
  {
   "cell_type": "markdown",
   "id": "933a8ff5",
   "metadata": {},
   "source": [
    "## 5.2 heirarchical clustering"
   ]
  },
  {
   "cell_type": "code",
   "execution_count": 124,
   "id": "68938342",
   "metadata": {},
   "outputs": [
    {
     "data": {
      "text/plain": [
       "(50000, 4)"
      ]
     },
     "execution_count": 124,
     "metadata": {},
     "output_type": "execute_result"
    }
   ],
   "source": [
    "scaled_data.shape"
   ]
  },
  {
   "cell_type": "markdown",
   "id": "495b9344",
   "metadata": {},
   "source": [
    "### 5.2.1 create a hierarchical clustering object\n"
   ]
  },
  {
   "cell_type": "code",
   "execution_count": 125,
   "id": "2803e7b3",
   "metadata": {},
   "outputs": [],
   "source": [
    "from sklearn.cluster import AgglomerativeClustering\n",
    "\n",
    "agg = AgglomerativeClustering(n_clusters=3)"
   ]
  },
  {
   "cell_type": "markdown",
   "id": "6dfd2c7d",
   "metadata": {},
   "source": [
    "### 5.2.2 Subsample data (For Limited Memory)\n"
   ]
  },
  {
   "cell_type": "code",
   "execution_count": 126,
   "id": "ba66cac3",
   "metadata": {},
   "outputs": [],
   "source": [
    "# Subsample data\n",
    "from sklearn.utils import shuffle\n",
    "subsample_size = 5000  # You can adjust this based on your memory constraints\n",
    "subsampled_data = shuffle(scaled_data, random_state=42)[:subsample_size]\n",
    "\n",
    "agg_labels = agg.fit_predict(subsampled_data)\n",
    "\n",
    "\n",
    "kmeans = KMeans(n_clusters=3, random_state=42)\n",
    "clusters = kmeans.fit_predict(subsampled_data)\n",
    "\n"
   ]
  },
  {
   "cell_type": "markdown",
   "id": "8c6830d1",
   "metadata": {},
   "source": [
    "### 5.2.3 Evaluate cluster 3 for Hierarchical Clustering\n"
   ]
  },
  {
   "cell_type": "code",
   "execution_count": 127,
   "id": "343f47f4",
   "metadata": {},
   "outputs": [],
   "source": [
    "# Evaluate clustering for Hierarchical Clustering\n",
    "agg_silhouette = silhouette_score(subsampled_data, agg_labels)\n",
    "agg_davies_bouldin = davies_bouldin_score(subsampled_data, agg_labels)\n"
   ]
  },
  {
   "cell_type": "markdown",
   "id": "509c279f",
   "metadata": {},
   "source": [
    "### 5.3.4 Evaluate k means clustering for cluster 3\n"
   ]
  },
  {
   "cell_type": "code",
   "execution_count": 128,
   "id": "3c150145",
   "metadata": {},
   "outputs": [],
   "source": [
    "# Evaluate k means clustering\n",
    "kmeans_silhouette = silhouette_score(subsampled_data, clusters)\n",
    "kmeans_davies_bouldin = davies_bouldin_score(subsampled_data, clusters)"
   ]
  },
  {
   "cell_type": "markdown",
   "id": "1a3fd3c4",
   "metadata": {},
   "source": [
    "### 5.3.5 print evaluation metrices"
   ]
  },
  {
   "cell_type": "code",
   "execution_count": 129,
   "id": "22e7f25d",
   "metadata": {},
   "outputs": [
    {
     "name": "stdout",
     "output_type": "stream",
     "text": [
      "\n",
      "Hierarchical Clustering:\n",
      "Silhouette: 0.38276355502401527, Davies-Bouldin: 0.9219150632524684\n",
      "\n",
      "K-means Clustering:\n",
      "Silhouette: 0.4016670124291188, Davies-Bouldin: 0.9190927767103263\n"
     ]
    }
   ],
   "source": [
    "print('\\nHierarchical Clustering:')\n",
    "print(f'Silhouette: {agg_silhouette}, Davies-Bouldin: {agg_davies_bouldin}')\n",
    "\n",
    "print('\\nK-means Clustering:')\n",
    "print(f'Silhouette: {kmeans_silhouette}, Davies-Bouldin: {kmeans_davies_bouldin}')"
   ]
  },
  {
   "cell_type": "code",
   "execution_count": null,
   "id": "cb3d60c6",
   "metadata": {},
   "outputs": [],
   "source": []
  }
 ],
 "metadata": {
  "kernelspec": {
   "display_name": "base",
   "language": "python",
   "name": "python3"
  },
  "language_info": {
   "codemirror_mode": {
    "name": "ipython",
    "version": 3
   },
   "file_extension": ".py",
   "mimetype": "text/x-python",
   "name": "python",
   "nbconvert_exporter": "python",
   "pygments_lexer": "ipython3",
   "version": "3.11.5 | packaged by Anaconda, Inc. | (main, Sep 11 2023, 13:26:23) [MSC v.1916 64 bit (AMD64)]"
  },
  "vscode": {
   "interpreter": {
    "hash": "3c06e3e46abf38078fe4dac36a0085ec2b134ebbd73dd076183d243eeca6918f"
   }
  }
 },
 "nbformat": 4,
 "nbformat_minor": 5
}
